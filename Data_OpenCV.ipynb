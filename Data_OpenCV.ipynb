{
  "nbformat": 4,
  "nbformat_minor": 0,
  "metadata": {
    "colab": {
      "provenance": [],
      "gpuType": "T4"
    },
    "kernelspec": {
      "name": "python3",
      "display_name": "Python 3"
    },
    "language_info": {
      "name": "python"
    },
    "accelerator": "GPU",
    "widgets": {
      "application/vnd.jupyter.widget-state+json": {
        "3fb56b811c48418ca7ac9ac820096d32": {
          "model_module": "@jupyter-widgets/controls",
          "model_name": "HBoxModel",
          "model_module_version": "1.5.0",
          "state": {
            "_dom_classes": [],
            "_model_module": "@jupyter-widgets/controls",
            "_model_module_version": "1.5.0",
            "_model_name": "HBoxModel",
            "_view_count": null,
            "_view_module": "@jupyter-widgets/controls",
            "_view_module_version": "1.5.0",
            "_view_name": "HBoxView",
            "box_style": "",
            "children": [
              "IPY_MODEL_932cbb15a308492a97d5079dcc75e524",
              "IPY_MODEL_4d459e095a784855ab8a8b05182df944",
              "IPY_MODEL_4d01210dce0945db822d94787d0699e5"
            ],
            "layout": "IPY_MODEL_eff9638a95824653a1eeac0203732569"
          }
        },
        "932cbb15a308492a97d5079dcc75e524": {
          "model_module": "@jupyter-widgets/controls",
          "model_name": "HTMLModel",
          "model_module_version": "1.5.0",
          "state": {
            "_dom_classes": [],
            "_model_module": "@jupyter-widgets/controls",
            "_model_module_version": "1.5.0",
            "_model_name": "HTMLModel",
            "_view_count": null,
            "_view_module": "@jupyter-widgets/controls",
            "_view_module_version": "1.5.0",
            "_view_name": "HTMLView",
            "description": "",
            "description_tooltip": null,
            "layout": "IPY_MODEL_918f8a7b06114c08aa09e4713cf16b70",
            "placeholder": "​",
            "style": "IPY_MODEL_85831ef8860d41ce840b70e73cb40862",
            "value": "100%"
          }
        },
        "4d459e095a784855ab8a8b05182df944": {
          "model_module": "@jupyter-widgets/controls",
          "model_name": "FloatProgressModel",
          "model_module_version": "1.5.0",
          "state": {
            "_dom_classes": [],
            "_model_module": "@jupyter-widgets/controls",
            "_model_module_version": "1.5.0",
            "_model_name": "FloatProgressModel",
            "_view_count": null,
            "_view_module": "@jupyter-widgets/controls",
            "_view_module_version": "1.5.0",
            "_view_name": "ProgressView",
            "bar_style": "success",
            "description": "",
            "description_tooltip": null,
            "layout": "IPY_MODEL_d43cd2ec225f41e6b4dec21049f5c9b3",
            "max": 240,
            "min": 0,
            "orientation": "horizontal",
            "style": "IPY_MODEL_15e6624022b3412abb83fb590cef2cbb",
            "value": 240
          }
        },
        "4d01210dce0945db822d94787d0699e5": {
          "model_module": "@jupyter-widgets/controls",
          "model_name": "HTMLModel",
          "model_module_version": "1.5.0",
          "state": {
            "_dom_classes": [],
            "_model_module": "@jupyter-widgets/controls",
            "_model_module_version": "1.5.0",
            "_model_name": "HTMLModel",
            "_view_count": null,
            "_view_module": "@jupyter-widgets/controls",
            "_view_module_version": "1.5.0",
            "_view_name": "HTMLView",
            "description": "",
            "description_tooltip": null,
            "layout": "IPY_MODEL_434eac57de2647a8a29c0d3dda5b5986",
            "placeholder": "​",
            "style": "IPY_MODEL_ecbc9ba127d94c3099ebb285dc6ccec9",
            "value": " 240/240 [00:00&lt;00:00, 423.57it/s]"
          }
        },
        "eff9638a95824653a1eeac0203732569": {
          "model_module": "@jupyter-widgets/base",
          "model_name": "LayoutModel",
          "model_module_version": "1.2.0",
          "state": {
            "_model_module": "@jupyter-widgets/base",
            "_model_module_version": "1.2.0",
            "_model_name": "LayoutModel",
            "_view_count": null,
            "_view_module": "@jupyter-widgets/base",
            "_view_module_version": "1.2.0",
            "_view_name": "LayoutView",
            "align_content": null,
            "align_items": null,
            "align_self": null,
            "border": null,
            "bottom": null,
            "display": null,
            "flex": null,
            "flex_flow": null,
            "grid_area": null,
            "grid_auto_columns": null,
            "grid_auto_flow": null,
            "grid_auto_rows": null,
            "grid_column": null,
            "grid_gap": null,
            "grid_row": null,
            "grid_template_areas": null,
            "grid_template_columns": null,
            "grid_template_rows": null,
            "height": null,
            "justify_content": null,
            "justify_items": null,
            "left": null,
            "margin": null,
            "max_height": null,
            "max_width": null,
            "min_height": null,
            "min_width": null,
            "object_fit": null,
            "object_position": null,
            "order": null,
            "overflow": null,
            "overflow_x": null,
            "overflow_y": null,
            "padding": null,
            "right": null,
            "top": null,
            "visibility": null,
            "width": null
          }
        },
        "918f8a7b06114c08aa09e4713cf16b70": {
          "model_module": "@jupyter-widgets/base",
          "model_name": "LayoutModel",
          "model_module_version": "1.2.0",
          "state": {
            "_model_module": "@jupyter-widgets/base",
            "_model_module_version": "1.2.0",
            "_model_name": "LayoutModel",
            "_view_count": null,
            "_view_module": "@jupyter-widgets/base",
            "_view_module_version": "1.2.0",
            "_view_name": "LayoutView",
            "align_content": null,
            "align_items": null,
            "align_self": null,
            "border": null,
            "bottom": null,
            "display": null,
            "flex": null,
            "flex_flow": null,
            "grid_area": null,
            "grid_auto_columns": null,
            "grid_auto_flow": null,
            "grid_auto_rows": null,
            "grid_column": null,
            "grid_gap": null,
            "grid_row": null,
            "grid_template_areas": null,
            "grid_template_columns": null,
            "grid_template_rows": null,
            "height": null,
            "justify_content": null,
            "justify_items": null,
            "left": null,
            "margin": null,
            "max_height": null,
            "max_width": null,
            "min_height": null,
            "min_width": null,
            "object_fit": null,
            "object_position": null,
            "order": null,
            "overflow": null,
            "overflow_x": null,
            "overflow_y": null,
            "padding": null,
            "right": null,
            "top": null,
            "visibility": null,
            "width": null
          }
        },
        "85831ef8860d41ce840b70e73cb40862": {
          "model_module": "@jupyter-widgets/controls",
          "model_name": "DescriptionStyleModel",
          "model_module_version": "1.5.0",
          "state": {
            "_model_module": "@jupyter-widgets/controls",
            "_model_module_version": "1.5.0",
            "_model_name": "DescriptionStyleModel",
            "_view_count": null,
            "_view_module": "@jupyter-widgets/base",
            "_view_module_version": "1.2.0",
            "_view_name": "StyleView",
            "description_width": ""
          }
        },
        "d43cd2ec225f41e6b4dec21049f5c9b3": {
          "model_module": "@jupyter-widgets/base",
          "model_name": "LayoutModel",
          "model_module_version": "1.2.0",
          "state": {
            "_model_module": "@jupyter-widgets/base",
            "_model_module_version": "1.2.0",
            "_model_name": "LayoutModel",
            "_view_count": null,
            "_view_module": "@jupyter-widgets/base",
            "_view_module_version": "1.2.0",
            "_view_name": "LayoutView",
            "align_content": null,
            "align_items": null,
            "align_self": null,
            "border": null,
            "bottom": null,
            "display": null,
            "flex": null,
            "flex_flow": null,
            "grid_area": null,
            "grid_auto_columns": null,
            "grid_auto_flow": null,
            "grid_auto_rows": null,
            "grid_column": null,
            "grid_gap": null,
            "grid_row": null,
            "grid_template_areas": null,
            "grid_template_columns": null,
            "grid_template_rows": null,
            "height": null,
            "justify_content": null,
            "justify_items": null,
            "left": null,
            "margin": null,
            "max_height": null,
            "max_width": null,
            "min_height": null,
            "min_width": null,
            "object_fit": null,
            "object_position": null,
            "order": null,
            "overflow": null,
            "overflow_x": null,
            "overflow_y": null,
            "padding": null,
            "right": null,
            "top": null,
            "visibility": null,
            "width": null
          }
        },
        "15e6624022b3412abb83fb590cef2cbb": {
          "model_module": "@jupyter-widgets/controls",
          "model_name": "ProgressStyleModel",
          "model_module_version": "1.5.0",
          "state": {
            "_model_module": "@jupyter-widgets/controls",
            "_model_module_version": "1.5.0",
            "_model_name": "ProgressStyleModel",
            "_view_count": null,
            "_view_module": "@jupyter-widgets/base",
            "_view_module_version": "1.2.0",
            "_view_name": "StyleView",
            "bar_color": null,
            "description_width": ""
          }
        },
        "434eac57de2647a8a29c0d3dda5b5986": {
          "model_module": "@jupyter-widgets/base",
          "model_name": "LayoutModel",
          "model_module_version": "1.2.0",
          "state": {
            "_model_module": "@jupyter-widgets/base",
            "_model_module_version": "1.2.0",
            "_model_name": "LayoutModel",
            "_view_count": null,
            "_view_module": "@jupyter-widgets/base",
            "_view_module_version": "1.2.0",
            "_view_name": "LayoutView",
            "align_content": null,
            "align_items": null,
            "align_self": null,
            "border": null,
            "bottom": null,
            "display": null,
            "flex": null,
            "flex_flow": null,
            "grid_area": null,
            "grid_auto_columns": null,
            "grid_auto_flow": null,
            "grid_auto_rows": null,
            "grid_column": null,
            "grid_gap": null,
            "grid_row": null,
            "grid_template_areas": null,
            "grid_template_columns": null,
            "grid_template_rows": null,
            "height": null,
            "justify_content": null,
            "justify_items": null,
            "left": null,
            "margin": null,
            "max_height": null,
            "max_width": null,
            "min_height": null,
            "min_width": null,
            "object_fit": null,
            "object_position": null,
            "order": null,
            "overflow": null,
            "overflow_x": null,
            "overflow_y": null,
            "padding": null,
            "right": null,
            "top": null,
            "visibility": null,
            "width": null
          }
        },
        "ecbc9ba127d94c3099ebb285dc6ccec9": {
          "model_module": "@jupyter-widgets/controls",
          "model_name": "DescriptionStyleModel",
          "model_module_version": "1.5.0",
          "state": {
            "_model_module": "@jupyter-widgets/controls",
            "_model_module_version": "1.5.0",
            "_model_name": "DescriptionStyleModel",
            "_view_count": null,
            "_view_module": "@jupyter-widgets/base",
            "_view_module_version": "1.2.0",
            "_view_name": "StyleView",
            "description_width": ""
          }
        },
        "05cf2b8e452141e4ac04d542846c4fb3": {
          "model_module": "@jupyter-widgets/controls",
          "model_name": "HBoxModel",
          "model_module_version": "1.5.0",
          "state": {
            "_dom_classes": [],
            "_model_module": "@jupyter-widgets/controls",
            "_model_module_version": "1.5.0",
            "_model_name": "HBoxModel",
            "_view_count": null,
            "_view_module": "@jupyter-widgets/controls",
            "_view_module_version": "1.5.0",
            "_view_name": "HBoxView",
            "box_style": "",
            "children": [
              "IPY_MODEL_d88e04a3fc6d4d948ebb50382eabbad2",
              "IPY_MODEL_167317f8a73c45f48951670056f5c2b7",
              "IPY_MODEL_6756cf3bb637414b82eea591354a151a"
            ],
            "layout": "IPY_MODEL_6a6467e743464667a31f96c4ff1fc3ad"
          }
        },
        "d88e04a3fc6d4d948ebb50382eabbad2": {
          "model_module": "@jupyter-widgets/controls",
          "model_name": "HTMLModel",
          "model_module_version": "1.5.0",
          "state": {
            "_dom_classes": [],
            "_model_module": "@jupyter-widgets/controls",
            "_model_module_version": "1.5.0",
            "_model_name": "HTMLModel",
            "_view_count": null,
            "_view_module": "@jupyter-widgets/controls",
            "_view_module_version": "1.5.0",
            "_view_name": "HTMLView",
            "description": "",
            "description_tooltip": null,
            "layout": "IPY_MODEL_3a2bf28b57bb4484a565494b5ffe3450",
            "placeholder": "​",
            "style": "IPY_MODEL_e3505d2b44bc40f7b835412b4463a4e9",
            "value": "100%"
          }
        },
        "167317f8a73c45f48951670056f5c2b7": {
          "model_module": "@jupyter-widgets/controls",
          "model_name": "FloatProgressModel",
          "model_module_version": "1.5.0",
          "state": {
            "_dom_classes": [],
            "_model_module": "@jupyter-widgets/controls",
            "_model_module_version": "1.5.0",
            "_model_name": "FloatProgressModel",
            "_view_count": null,
            "_view_module": "@jupyter-widgets/controls",
            "_view_module_version": "1.5.0",
            "_view_name": "ProgressView",
            "bar_style": "success",
            "description": "",
            "description_tooltip": null,
            "layout": "IPY_MODEL_1310286330be46aa9f54b8332f32e116",
            "max": 60,
            "min": 0,
            "orientation": "horizontal",
            "style": "IPY_MODEL_39aaeaed0ee24fe598a4fa9ca379d1de",
            "value": 60
          }
        },
        "6756cf3bb637414b82eea591354a151a": {
          "model_module": "@jupyter-widgets/controls",
          "model_name": "HTMLModel",
          "model_module_version": "1.5.0",
          "state": {
            "_dom_classes": [],
            "_model_module": "@jupyter-widgets/controls",
            "_model_module_version": "1.5.0",
            "_model_name": "HTMLModel",
            "_view_count": null,
            "_view_module": "@jupyter-widgets/controls",
            "_view_module_version": "1.5.0",
            "_view_name": "HTMLView",
            "description": "",
            "description_tooltip": null,
            "layout": "IPY_MODEL_89e96113b7ba4c0e841edff61e824e48",
            "placeholder": "​",
            "style": "IPY_MODEL_18d83ddf3cc14cedaccbd9b91edd7f39",
            "value": " 60/60 [00:00&lt;00:00, 764.94it/s]"
          }
        },
        "6a6467e743464667a31f96c4ff1fc3ad": {
          "model_module": "@jupyter-widgets/base",
          "model_name": "LayoutModel",
          "model_module_version": "1.2.0",
          "state": {
            "_model_module": "@jupyter-widgets/base",
            "_model_module_version": "1.2.0",
            "_model_name": "LayoutModel",
            "_view_count": null,
            "_view_module": "@jupyter-widgets/base",
            "_view_module_version": "1.2.0",
            "_view_name": "LayoutView",
            "align_content": null,
            "align_items": null,
            "align_self": null,
            "border": null,
            "bottom": null,
            "display": null,
            "flex": null,
            "flex_flow": null,
            "grid_area": null,
            "grid_auto_columns": null,
            "grid_auto_flow": null,
            "grid_auto_rows": null,
            "grid_column": null,
            "grid_gap": null,
            "grid_row": null,
            "grid_template_areas": null,
            "grid_template_columns": null,
            "grid_template_rows": null,
            "height": null,
            "justify_content": null,
            "justify_items": null,
            "left": null,
            "margin": null,
            "max_height": null,
            "max_width": null,
            "min_height": null,
            "min_width": null,
            "object_fit": null,
            "object_position": null,
            "order": null,
            "overflow": null,
            "overflow_x": null,
            "overflow_y": null,
            "padding": null,
            "right": null,
            "top": null,
            "visibility": null,
            "width": null
          }
        },
        "3a2bf28b57bb4484a565494b5ffe3450": {
          "model_module": "@jupyter-widgets/base",
          "model_name": "LayoutModel",
          "model_module_version": "1.2.0",
          "state": {
            "_model_module": "@jupyter-widgets/base",
            "_model_module_version": "1.2.0",
            "_model_name": "LayoutModel",
            "_view_count": null,
            "_view_module": "@jupyter-widgets/base",
            "_view_module_version": "1.2.0",
            "_view_name": "LayoutView",
            "align_content": null,
            "align_items": null,
            "align_self": null,
            "border": null,
            "bottom": null,
            "display": null,
            "flex": null,
            "flex_flow": null,
            "grid_area": null,
            "grid_auto_columns": null,
            "grid_auto_flow": null,
            "grid_auto_rows": null,
            "grid_column": null,
            "grid_gap": null,
            "grid_row": null,
            "grid_template_areas": null,
            "grid_template_columns": null,
            "grid_template_rows": null,
            "height": null,
            "justify_content": null,
            "justify_items": null,
            "left": null,
            "margin": null,
            "max_height": null,
            "max_width": null,
            "min_height": null,
            "min_width": null,
            "object_fit": null,
            "object_position": null,
            "order": null,
            "overflow": null,
            "overflow_x": null,
            "overflow_y": null,
            "padding": null,
            "right": null,
            "top": null,
            "visibility": null,
            "width": null
          }
        },
        "e3505d2b44bc40f7b835412b4463a4e9": {
          "model_module": "@jupyter-widgets/controls",
          "model_name": "DescriptionStyleModel",
          "model_module_version": "1.5.0",
          "state": {
            "_model_module": "@jupyter-widgets/controls",
            "_model_module_version": "1.5.0",
            "_model_name": "DescriptionStyleModel",
            "_view_count": null,
            "_view_module": "@jupyter-widgets/base",
            "_view_module_version": "1.2.0",
            "_view_name": "StyleView",
            "description_width": ""
          }
        },
        "1310286330be46aa9f54b8332f32e116": {
          "model_module": "@jupyter-widgets/base",
          "model_name": "LayoutModel",
          "model_module_version": "1.2.0",
          "state": {
            "_model_module": "@jupyter-widgets/base",
            "_model_module_version": "1.2.0",
            "_model_name": "LayoutModel",
            "_view_count": null,
            "_view_module": "@jupyter-widgets/base",
            "_view_module_version": "1.2.0",
            "_view_name": "LayoutView",
            "align_content": null,
            "align_items": null,
            "align_self": null,
            "border": null,
            "bottom": null,
            "display": null,
            "flex": null,
            "flex_flow": null,
            "grid_area": null,
            "grid_auto_columns": null,
            "grid_auto_flow": null,
            "grid_auto_rows": null,
            "grid_column": null,
            "grid_gap": null,
            "grid_row": null,
            "grid_template_areas": null,
            "grid_template_columns": null,
            "grid_template_rows": null,
            "height": null,
            "justify_content": null,
            "justify_items": null,
            "left": null,
            "margin": null,
            "max_height": null,
            "max_width": null,
            "min_height": null,
            "min_width": null,
            "object_fit": null,
            "object_position": null,
            "order": null,
            "overflow": null,
            "overflow_x": null,
            "overflow_y": null,
            "padding": null,
            "right": null,
            "top": null,
            "visibility": null,
            "width": null
          }
        },
        "39aaeaed0ee24fe598a4fa9ca379d1de": {
          "model_module": "@jupyter-widgets/controls",
          "model_name": "ProgressStyleModel",
          "model_module_version": "1.5.0",
          "state": {
            "_model_module": "@jupyter-widgets/controls",
            "_model_module_version": "1.5.0",
            "_model_name": "ProgressStyleModel",
            "_view_count": null,
            "_view_module": "@jupyter-widgets/base",
            "_view_module_version": "1.2.0",
            "_view_name": "StyleView",
            "bar_color": null,
            "description_width": ""
          }
        },
        "89e96113b7ba4c0e841edff61e824e48": {
          "model_module": "@jupyter-widgets/base",
          "model_name": "LayoutModel",
          "model_module_version": "1.2.0",
          "state": {
            "_model_module": "@jupyter-widgets/base",
            "_model_module_version": "1.2.0",
            "_model_name": "LayoutModel",
            "_view_count": null,
            "_view_module": "@jupyter-widgets/base",
            "_view_module_version": "1.2.0",
            "_view_name": "LayoutView",
            "align_content": null,
            "align_items": null,
            "align_self": null,
            "border": null,
            "bottom": null,
            "display": null,
            "flex": null,
            "flex_flow": null,
            "grid_area": null,
            "grid_auto_columns": null,
            "grid_auto_flow": null,
            "grid_auto_rows": null,
            "grid_column": null,
            "grid_gap": null,
            "grid_row": null,
            "grid_template_areas": null,
            "grid_template_columns": null,
            "grid_template_rows": null,
            "height": null,
            "justify_content": null,
            "justify_items": null,
            "left": null,
            "margin": null,
            "max_height": null,
            "max_width": null,
            "min_height": null,
            "min_width": null,
            "object_fit": null,
            "object_position": null,
            "order": null,
            "overflow": null,
            "overflow_x": null,
            "overflow_y": null,
            "padding": null,
            "right": null,
            "top": null,
            "visibility": null,
            "width": null
          }
        },
        "18d83ddf3cc14cedaccbd9b91edd7f39": {
          "model_module": "@jupyter-widgets/controls",
          "model_name": "DescriptionStyleModel",
          "model_module_version": "1.5.0",
          "state": {
            "_model_module": "@jupyter-widgets/controls",
            "_model_module_version": "1.5.0",
            "_model_name": "DescriptionStyleModel",
            "_view_count": null,
            "_view_module": "@jupyter-widgets/base",
            "_view_module_version": "1.2.0",
            "_view_name": "StyleView",
            "description_width": ""
          }
        }
      }
    }
  },
  "cells": [
    {
      "cell_type": "markdown",
      "source": [
        "\n",
        "\n",
        " **🔧 ติดตั้งไลบรารีที่จำเป็น**\n",
        "\n"
      ],
      "metadata": {
        "id": "HtE6_C89sJV7"
      }
    },
    {
      "cell_type": "code",
      "execution_count": 66,
      "metadata": {
        "colab": {
          "base_uri": "https://localhost:8080/"
        },
        "collapsed": true,
        "id": "uJXwDXDkZdmZ",
        "outputId": "02044c88-fe89-433b-caf3-d983ee175b43"
      },
      "outputs": [
        {
          "output_type": "stream",
          "name": "stdout",
          "text": [
            "Requirement already satisfied: ultralytics in /usr/local/lib/python3.11/dist-packages (8.3.160)\n",
            "Requirement already satisfied: numpy>=1.23.0 in /usr/local/lib/python3.11/dist-packages (from ultralytics) (2.0.2)\n",
            "Requirement already satisfied: matplotlib>=3.3.0 in /usr/local/lib/python3.11/dist-packages (from ultralytics) (3.10.0)\n",
            "Requirement already satisfied: opencv-python>=4.6.0 in /usr/local/lib/python3.11/dist-packages (from ultralytics) (4.11.0.86)\n",
            "Requirement already satisfied: pillow>=7.1.2 in /usr/local/lib/python3.11/dist-packages (from ultralytics) (11.2.1)\n",
            "Requirement already satisfied: pyyaml>=5.3.1 in /usr/local/lib/python3.11/dist-packages (from ultralytics) (6.0.2)\n",
            "Requirement already satisfied: requests>=2.23.0 in /usr/local/lib/python3.11/dist-packages (from ultralytics) (2.32.3)\n",
            "Requirement already satisfied: scipy>=1.4.1 in /usr/local/lib/python3.11/dist-packages (from ultralytics) (1.15.3)\n",
            "Requirement already satisfied: torch>=1.8.0 in /usr/local/lib/python3.11/dist-packages (from ultralytics) (2.6.0+cu124)\n",
            "Requirement already satisfied: torchvision>=0.9.0 in /usr/local/lib/python3.11/dist-packages (from ultralytics) (0.21.0+cu124)\n",
            "Requirement already satisfied: tqdm>=4.64.0 in /usr/local/lib/python3.11/dist-packages (from ultralytics) (4.67.1)\n",
            "Requirement already satisfied: psutil in /usr/local/lib/python3.11/dist-packages (from ultralytics) (5.9.5)\n",
            "Requirement already satisfied: py-cpuinfo in /usr/local/lib/python3.11/dist-packages (from ultralytics) (9.0.0)\n",
            "Requirement already satisfied: pandas>=1.1.4 in /usr/local/lib/python3.11/dist-packages (from ultralytics) (2.2.2)\n",
            "Requirement already satisfied: ultralytics-thop>=2.0.0 in /usr/local/lib/python3.11/dist-packages (from ultralytics) (2.0.14)\n",
            "Requirement already satisfied: contourpy>=1.0.1 in /usr/local/lib/python3.11/dist-packages (from matplotlib>=3.3.0->ultralytics) (1.3.2)\n",
            "Requirement already satisfied: cycler>=0.10 in /usr/local/lib/python3.11/dist-packages (from matplotlib>=3.3.0->ultralytics) (0.12.1)\n",
            "Requirement already satisfied: fonttools>=4.22.0 in /usr/local/lib/python3.11/dist-packages (from matplotlib>=3.3.0->ultralytics) (4.58.4)\n",
            "Requirement already satisfied: kiwisolver>=1.3.1 in /usr/local/lib/python3.11/dist-packages (from matplotlib>=3.3.0->ultralytics) (1.4.8)\n",
            "Requirement already satisfied: packaging>=20.0 in /usr/local/lib/python3.11/dist-packages (from matplotlib>=3.3.0->ultralytics) (24.2)\n",
            "Requirement already satisfied: pyparsing>=2.3.1 in /usr/local/lib/python3.11/dist-packages (from matplotlib>=3.3.0->ultralytics) (3.2.3)\n",
            "Requirement already satisfied: python-dateutil>=2.7 in /usr/local/lib/python3.11/dist-packages (from matplotlib>=3.3.0->ultralytics) (2.9.0.post0)\n",
            "Requirement already satisfied: pytz>=2020.1 in /usr/local/lib/python3.11/dist-packages (from pandas>=1.1.4->ultralytics) (2025.2)\n",
            "Requirement already satisfied: tzdata>=2022.7 in /usr/local/lib/python3.11/dist-packages (from pandas>=1.1.4->ultralytics) (2025.2)\n",
            "Requirement already satisfied: charset-normalizer<4,>=2 in /usr/local/lib/python3.11/dist-packages (from requests>=2.23.0->ultralytics) (3.4.2)\n",
            "Requirement already satisfied: idna<4,>=2.5 in /usr/local/lib/python3.11/dist-packages (from requests>=2.23.0->ultralytics) (3.10)\n",
            "Requirement already satisfied: urllib3<3,>=1.21.1 in /usr/local/lib/python3.11/dist-packages (from requests>=2.23.0->ultralytics) (2.4.0)\n",
            "Requirement already satisfied: certifi>=2017.4.17 in /usr/local/lib/python3.11/dist-packages (from requests>=2.23.0->ultralytics) (2025.6.15)\n",
            "Requirement already satisfied: filelock in /usr/local/lib/python3.11/dist-packages (from torch>=1.8.0->ultralytics) (3.18.0)\n",
            "Requirement already satisfied: typing-extensions>=4.10.0 in /usr/local/lib/python3.11/dist-packages (from torch>=1.8.0->ultralytics) (4.14.0)\n",
            "Requirement already satisfied: networkx in /usr/local/lib/python3.11/dist-packages (from torch>=1.8.0->ultralytics) (3.5)\n",
            "Requirement already satisfied: jinja2 in /usr/local/lib/python3.11/dist-packages (from torch>=1.8.0->ultralytics) (3.1.6)\n",
            "Requirement already satisfied: fsspec in /usr/local/lib/python3.11/dist-packages (from torch>=1.8.0->ultralytics) (2025.3.2)\n",
            "Requirement already satisfied: nvidia-cuda-nvrtc-cu12==12.4.127 in /usr/local/lib/python3.11/dist-packages (from torch>=1.8.0->ultralytics) (12.4.127)\n",
            "Requirement already satisfied: nvidia-cuda-runtime-cu12==12.4.127 in /usr/local/lib/python3.11/dist-packages (from torch>=1.8.0->ultralytics) (12.4.127)\n",
            "Requirement already satisfied: nvidia-cuda-cupti-cu12==12.4.127 in /usr/local/lib/python3.11/dist-packages (from torch>=1.8.0->ultralytics) (12.4.127)\n",
            "Requirement already satisfied: nvidia-cudnn-cu12==9.1.0.70 in /usr/local/lib/python3.11/dist-packages (from torch>=1.8.0->ultralytics) (9.1.0.70)\n",
            "Requirement already satisfied: nvidia-cublas-cu12==12.4.5.8 in /usr/local/lib/python3.11/dist-packages (from torch>=1.8.0->ultralytics) (12.4.5.8)\n",
            "Requirement already satisfied: nvidia-cufft-cu12==11.2.1.3 in /usr/local/lib/python3.11/dist-packages (from torch>=1.8.0->ultralytics) (11.2.1.3)\n",
            "Requirement already satisfied: nvidia-curand-cu12==10.3.5.147 in /usr/local/lib/python3.11/dist-packages (from torch>=1.8.0->ultralytics) (10.3.5.147)\n",
            "Requirement already satisfied: nvidia-cusolver-cu12==11.6.1.9 in /usr/local/lib/python3.11/dist-packages (from torch>=1.8.0->ultralytics) (11.6.1.9)\n",
            "Requirement already satisfied: nvidia-cusparse-cu12==12.3.1.170 in /usr/local/lib/python3.11/dist-packages (from torch>=1.8.0->ultralytics) (12.3.1.170)\n",
            "Requirement already satisfied: nvidia-cusparselt-cu12==0.6.2 in /usr/local/lib/python3.11/dist-packages (from torch>=1.8.0->ultralytics) (0.6.2)\n",
            "Requirement already satisfied: nvidia-nccl-cu12==2.21.5 in /usr/local/lib/python3.11/dist-packages (from torch>=1.8.0->ultralytics) (2.21.5)\n",
            "Requirement already satisfied: nvidia-nvtx-cu12==12.4.127 in /usr/local/lib/python3.11/dist-packages (from torch>=1.8.0->ultralytics) (12.4.127)\n",
            "Requirement already satisfied: nvidia-nvjitlink-cu12==12.4.127 in /usr/local/lib/python3.11/dist-packages (from torch>=1.8.0->ultralytics) (12.4.127)\n",
            "Requirement already satisfied: triton==3.2.0 in /usr/local/lib/python3.11/dist-packages (from torch>=1.8.0->ultralytics) (3.2.0)\n",
            "Requirement already satisfied: sympy==1.13.1 in /usr/local/lib/python3.11/dist-packages (from torch>=1.8.0->ultralytics) (1.13.1)\n",
            "Requirement already satisfied: mpmath<1.4,>=1.1.0 in /usr/local/lib/python3.11/dist-packages (from sympy==1.13.1->torch>=1.8.0->ultralytics) (1.3.0)\n",
            "Requirement already satisfied: six>=1.5 in /usr/local/lib/python3.11/dist-packages (from python-dateutil>=2.7->matplotlib>=3.3.0->ultralytics) (1.17.0)\n",
            "Requirement already satisfied: MarkupSafe>=2.0 in /usr/local/lib/python3.11/dist-packages (from jinja2->torch>=1.8.0->ultralytics) (3.0.2)\n",
            "8.3.160\n",
            "Requirement already satisfied: xmltodict in /usr/local/lib/python3.11/dist-packages (0.14.2)\n"
          ]
        }
      ],
      "source": [
        "!pip install ultralytics\n",
        "import ultralytics\n",
        "print(ultralytics.__version__)\n",
        "!pip install xmltodict"
      ]
    },
    {
      "cell_type": "markdown",
      "source": [
        "\n",
        "\n",
        "---\n",
        "\n"
      ],
      "metadata": {
        "id": "aBlflH9KsVSo"
      }
    },
    {
      "cell_type": "markdown",
      "source": [
        "\n",
        "# **🔧 ติดตั้งไลบรารีที่จำเป็น**"
      ],
      "metadata": {
        "id": "EipLlz9csm3v"
      }
    },
    {
      "cell_type": "code",
      "source": [
        "import os\n",
        "from google.colab import files\n",
        "import shutil # Import the shutil module\n",
        "\n",
        "# สร้างโฟลเดอร์ .kaggle ถ้ายังไม่มี\n",
        "# นี่คือโฟลเดอร์ที่ Kaggle API จะมองหาไฟล์ kaggle.json\n",
        "kaggle_dir = os.path.expanduser('~/.kaggle')\n",
        "os.makedirs(kaggle_dir, exist_ok=True)\n",
        "\n",
        "# อัปโหลดไฟล์ kaggle.json\n",
        "print(\"Please upload your kaggle.json file:\")\n",
        "uploaded = files.upload()\n",
        "\n",
        "for fn in uploaded.keys():\n",
        "    print('User uploaded file \"{name}\" with length {length} bytes'.format(\n",
        "        name=fn, length=len(uploaded[fn])))\n",
        "    # ย้ายไฟล์ที่อัปโหลดไปยังโฟลเดอร์ .kaggle\n",
        "    shutil.move(os.path.join('/content', fn), os.path.join(kaggle_dir, 'kaggle.json'))\n",
        "\n",
        "# กำหนดสิทธิ์ให้ไฟล์ kaggle.json ปลอดภัย (อ่านและเขียนเฉพาะเจ้าของ)\n",
        "!chmod 600 {os.path.join(kaggle_dir, 'kaggle.json')}\n",
        "\n",
        "print(\"\\nKaggle API Key uploaded and configured successfully!\")"
      ],
      "metadata": {
        "colab": {
          "base_uri": "https://localhost:8080/",
          "height": 142
        },
        "collapsed": true,
        "id": "NLsl2ERob_et",
        "outputId": "3aebfae7-2c46-418e-81e9-38fe2da6f947"
      },
      "execution_count": 67,
      "outputs": [
        {
          "output_type": "stream",
          "name": "stdout",
          "text": [
            "Please upload your kaggle.json file:\n"
          ]
        },
        {
          "output_type": "display_data",
          "data": {
            "text/plain": [
              "<IPython.core.display.HTML object>"
            ],
            "text/html": [
              "\n",
              "     <input type=\"file\" id=\"files-effc0af0-82da-4305-9136-ac4895d47a7e\" name=\"files[]\" multiple disabled\n",
              "        style=\"border:none\" />\n",
              "     <output id=\"result-effc0af0-82da-4305-9136-ac4895d47a7e\">\n",
              "      Upload widget is only available when the cell has been executed in the\n",
              "      current browser session. Please rerun this cell to enable.\n",
              "      </output>\n",
              "      <script>// Copyright 2017 Google LLC\n",
              "//\n",
              "// Licensed under the Apache License, Version 2.0 (the \"License\");\n",
              "// you may not use this file except in compliance with the License.\n",
              "// You may obtain a copy of the License at\n",
              "//\n",
              "//      http://www.apache.org/licenses/LICENSE-2.0\n",
              "//\n",
              "// Unless required by applicable law or agreed to in writing, software\n",
              "// distributed under the License is distributed on an \"AS IS\" BASIS,\n",
              "// WITHOUT WARRANTIES OR CONDITIONS OF ANY KIND, either express or implied.\n",
              "// See the License for the specific language governing permissions and\n",
              "// limitations under the License.\n",
              "\n",
              "/**\n",
              " * @fileoverview Helpers for google.colab Python module.\n",
              " */\n",
              "(function(scope) {\n",
              "function span(text, styleAttributes = {}) {\n",
              "  const element = document.createElement('span');\n",
              "  element.textContent = text;\n",
              "  for (const key of Object.keys(styleAttributes)) {\n",
              "    element.style[key] = styleAttributes[key];\n",
              "  }\n",
              "  return element;\n",
              "}\n",
              "\n",
              "// Max number of bytes which will be uploaded at a time.\n",
              "const MAX_PAYLOAD_SIZE = 100 * 1024;\n",
              "\n",
              "function _uploadFiles(inputId, outputId) {\n",
              "  const steps = uploadFilesStep(inputId, outputId);\n",
              "  const outputElement = document.getElementById(outputId);\n",
              "  // Cache steps on the outputElement to make it available for the next call\n",
              "  // to uploadFilesContinue from Python.\n",
              "  outputElement.steps = steps;\n",
              "\n",
              "  return _uploadFilesContinue(outputId);\n",
              "}\n",
              "\n",
              "// This is roughly an async generator (not supported in the browser yet),\n",
              "// where there are multiple asynchronous steps and the Python side is going\n",
              "// to poll for completion of each step.\n",
              "// This uses a Promise to block the python side on completion of each step,\n",
              "// then passes the result of the previous step as the input to the next step.\n",
              "function _uploadFilesContinue(outputId) {\n",
              "  const outputElement = document.getElementById(outputId);\n",
              "  const steps = outputElement.steps;\n",
              "\n",
              "  const next = steps.next(outputElement.lastPromiseValue);\n",
              "  return Promise.resolve(next.value.promise).then((value) => {\n",
              "    // Cache the last promise value to make it available to the next\n",
              "    // step of the generator.\n",
              "    outputElement.lastPromiseValue = value;\n",
              "    return next.value.response;\n",
              "  });\n",
              "}\n",
              "\n",
              "/**\n",
              " * Generator function which is called between each async step of the upload\n",
              " * process.\n",
              " * @param {string} inputId Element ID of the input file picker element.\n",
              " * @param {string} outputId Element ID of the output display.\n",
              " * @return {!Iterable<!Object>} Iterable of next steps.\n",
              " */\n",
              "function* uploadFilesStep(inputId, outputId) {\n",
              "  const inputElement = document.getElementById(inputId);\n",
              "  inputElement.disabled = false;\n",
              "\n",
              "  const outputElement = document.getElementById(outputId);\n",
              "  outputElement.innerHTML = '';\n",
              "\n",
              "  const pickedPromise = new Promise((resolve) => {\n",
              "    inputElement.addEventListener('change', (e) => {\n",
              "      resolve(e.target.files);\n",
              "    });\n",
              "  });\n",
              "\n",
              "  const cancel = document.createElement('button');\n",
              "  inputElement.parentElement.appendChild(cancel);\n",
              "  cancel.textContent = 'Cancel upload';\n",
              "  const cancelPromise = new Promise((resolve) => {\n",
              "    cancel.onclick = () => {\n",
              "      resolve(null);\n",
              "    };\n",
              "  });\n",
              "\n",
              "  // Wait for the user to pick the files.\n",
              "  const files = yield {\n",
              "    promise: Promise.race([pickedPromise, cancelPromise]),\n",
              "    response: {\n",
              "      action: 'starting',\n",
              "    }\n",
              "  };\n",
              "\n",
              "  cancel.remove();\n",
              "\n",
              "  // Disable the input element since further picks are not allowed.\n",
              "  inputElement.disabled = true;\n",
              "\n",
              "  if (!files) {\n",
              "    return {\n",
              "      response: {\n",
              "        action: 'complete',\n",
              "      }\n",
              "    };\n",
              "  }\n",
              "\n",
              "  for (const file of files) {\n",
              "    const li = document.createElement('li');\n",
              "    li.append(span(file.name, {fontWeight: 'bold'}));\n",
              "    li.append(span(\n",
              "        `(${file.type || 'n/a'}) - ${file.size} bytes, ` +\n",
              "        `last modified: ${\n",
              "            file.lastModifiedDate ? file.lastModifiedDate.toLocaleDateString() :\n",
              "                                    'n/a'} - `));\n",
              "    const percent = span('0% done');\n",
              "    li.appendChild(percent);\n",
              "\n",
              "    outputElement.appendChild(li);\n",
              "\n",
              "    const fileDataPromise = new Promise((resolve) => {\n",
              "      const reader = new FileReader();\n",
              "      reader.onload = (e) => {\n",
              "        resolve(e.target.result);\n",
              "      };\n",
              "      reader.readAsArrayBuffer(file);\n",
              "    });\n",
              "    // Wait for the data to be ready.\n",
              "    let fileData = yield {\n",
              "      promise: fileDataPromise,\n",
              "      response: {\n",
              "        action: 'continue',\n",
              "      }\n",
              "    };\n",
              "\n",
              "    // Use a chunked sending to avoid message size limits. See b/62115660.\n",
              "    let position = 0;\n",
              "    do {\n",
              "      const length = Math.min(fileData.byteLength - position, MAX_PAYLOAD_SIZE);\n",
              "      const chunk = new Uint8Array(fileData, position, length);\n",
              "      position += length;\n",
              "\n",
              "      const base64 = btoa(String.fromCharCode.apply(null, chunk));\n",
              "      yield {\n",
              "        response: {\n",
              "          action: 'append',\n",
              "          file: file.name,\n",
              "          data: base64,\n",
              "        },\n",
              "      };\n",
              "\n",
              "      let percentDone = fileData.byteLength === 0 ?\n",
              "          100 :\n",
              "          Math.round((position / fileData.byteLength) * 100);\n",
              "      percent.textContent = `${percentDone}% done`;\n",
              "\n",
              "    } while (position < fileData.byteLength);\n",
              "  }\n",
              "\n",
              "  // All done.\n",
              "  yield {\n",
              "    response: {\n",
              "      action: 'complete',\n",
              "    }\n",
              "  };\n",
              "}\n",
              "\n",
              "scope.google = scope.google || {};\n",
              "scope.google.colab = scope.google.colab || {};\n",
              "scope.google.colab._files = {\n",
              "  _uploadFiles,\n",
              "  _uploadFilesContinue,\n",
              "};\n",
              "})(self);\n",
              "</script> "
            ]
          },
          "metadata": {}
        },
        {
          "output_type": "stream",
          "name": "stdout",
          "text": [
            "Saving kaggle.json to kaggle.json\n",
            "User uploaded file \"kaggle.json\" with length 76 bytes\n",
            "\n",
            "Kaggle API Key uploaded and configured successfully!\n"
          ]
        }
      ]
    },
    {
      "cell_type": "markdown",
      "source": [
        "# **Data Preparation**"
      ],
      "metadata": {
        "id": "mz5DNz3PuhLO"
      }
    },
    {
      "cell_type": "code",
      "source": [
        "# prompt: Data Cleansing\n",
        "\n",
        "import xmltodict\n",
        "import pandas as pd\n",
        "import re\n",
        "import os # Ensure os is imported if used\n",
        "\n",
        "def parse_annotation(annotation_path):\n",
        "    with open(annotation_path, 'r', encoding='utf-8') as f:\n",
        "        xml_content = f.read()\n",
        "    try:\n",
        "        annotation_dict = xmltodict.parse(xml_content)\n",
        "        return annotation_dict\n",
        "    except Exception as e:\n",
        "        print(f\"Error parsing {annotation_path}: {e}\")\n",
        "        return None\n",
        "\n",
        "def get_object_details(annotation_dict):\n",
        "    objects = []\n",
        "    if annotation_dict and 'annotation' in annotation_dict and 'object' in annotation_dict['annotation']:\n",
        "        # Ensure that 'object' is always treated as a list\n",
        "        object_list = annotation_dict['annotation']['object']\n",
        "        if not isinstance(object_list, list):\n",
        "            object_list = [object_list]\n",
        "\n",
        "        for obj in object_list:\n",
        "            if 'name' in obj and 'bndbox' in obj:\n",
        "                objects.append({\n",
        "                    'name': obj['name'],\n",
        "                    'xmin': int(obj['bndbox']['xmin']),\n",
        "                    'ymin': int(obj['bndbox']['ymin']),\n",
        "                    'xmax': int(obj['bndbox']['xmax']),\n",
        "                    'ymax': int(obj['bndbox']['ymax'])\n",
        "                })\n",
        "    return objects\n",
        "\n",
        "def validate_annotation(annotation_dict):\n",
        "    if not annotation_dict or 'annotation' not in annotation_dict:\n",
        "        return False, \"Missing 'annotation' key\"\n",
        "\n",
        "    annotation_data = annotation_dict['annotation']\n",
        "\n",
        "    if 'filename' not in annotation_data or not annotation_data['filename']:\n",
        "        return False, \"Missing or empty 'filename'\"\n",
        "\n",
        "    # Fix: Add 'in' to the 'height' check condition\n",
        "    if 'size' not in annotation_data or 'width' not in annotation_data['size'] or 'height' not in annotation_data['size'] or 'depth' not in annotation_data['size']:\n",
        "         return False, \"Missing or incomplete 'size' information\"\n",
        "\n",
        "    if 'object' not in annotation_data:\n",
        "        # Allow annotations with no objects but otherwise valid structure\n",
        "        return True, \"No objects found\"\n",
        "\n",
        "    # Ensure that 'object' is always treated as a list for validation\n",
        "    object_list = annotation_data['object']\n",
        "    if not isinstance(object_list, list):\n",
        "        object_list = [object_list]\n",
        "\n",
        "    for obj in object_list:\n",
        "        if 'name' not in obj or not obj['name']:\n",
        "            return False, \"Missing or empty 'name' in object\"\n",
        "        if 'bndbox' not in obj or 'xmin' not in obj['bndbox'] or 'ymin' not in obj['bndbox'] or 'xmax' not in obj['bndbox'] or 'ymax' not in obj['bndbox']:\n",
        "            return False, \"Missing or incomplete 'bndbox' in object\"\n",
        "\n",
        "        try:\n",
        "            xmin, ymin, xmax, ymax = int(obj['bndbox']['xmin']), int(obj['bndbox']['ymin']), int(obj['bndbox']['xmax']), int(obj['bndbox']['ymax'])\n",
        "            if xmin < 0 or ymin < 0 or xmax <= xmin or ymax <= ymin:\n",
        "                 return False, f\"Invalid bounding box coordinates for object '{obj.get('name', 'Unknown')}': ({xmin}, {ymin}, {xmax}, {ymax})\"\n",
        "        except (ValueError, TypeError):\n",
        "             return False, f\"Non-integer bounding box coordinates for object '{obj.get('name', 'Unknown')}'\"\n",
        "\n",
        "    return True, \"Valid\"\n",
        "\n",
        "# Example usage (assuming annotation files are in a directory 'annotations')\n",
        "# This code assumes a directory named 'annotations' exists containing the XML files.\n",
        "# Based on previous steps, your XMLs are likely in '/content/fruit_dataset/all_images'\n",
        "annotation_dir = '/content/fruit_dataset/all_images' # Update this path to where your XMLs are\n",
        "invalid_annotations = []\n",
        "valid_annotations_data = []\n",
        "\n",
        "if os.path.exists(annotation_dir):\n",
        "    for filename in os.listdir(annotation_dir):\n",
        "        if filename.endswith('.xml'):\n",
        "            annotation_path = os.path.join(annotation_dir, filename)\n",
        "            annotation_dict = parse_annotation(annotation_path)\n",
        "            is_valid, reason = validate_annotation(annotation_dict)\n",
        "            if not is_valid:\n",
        "                invalid_annotations.append({'filename': filename, 'reason': reason})\n",
        "                # Optionally delete or quarantine invalid files\n",
        "                # os.remove(annotation_path)\n",
        "                # print(f\"Deleted invalid annotation: {filename}\")\n",
        "            else:\n",
        "                # Process valid annotations, e.g., extract object details\n",
        "                valid_annotations_data.append({\n",
        "                    'filename': annotation_dict['annotation']['filename'],\n",
        "                    'objects': get_object_details(annotation_dict)\n",
        "                })\n",
        "                # print(f\"Annotation {filename} is valid.\") # Indicate which files are kept - uncomment if needed\n",
        "\n",
        "    print(\"\\n--- Data Cleansing Summary ---\")\n",
        "    print(f\"Total XML files found: {len([f for f in os.listdir(annotation_dir) if f.endswith('.xml')])}\")\n",
        "    print(f\"Number of invalid annotations found: {len(invalid_annotations)}\")\n",
        "    if invalid_annotations:\n",
        "        print(\"Details of invalid annotations:\")\n",
        "        for item in invalid_annotations:\n",
        "            print(f\"- {item['filename']}: {item['reason']}\")\n",
        "\n",
        "    # You can now work with valid_annotations_data\n",
        "    # For example, create a DataFrame or further process the data\n",
        "    # print(\"\\nValid annotations data sample:\")\n",
        "    # print(valid_annotations_data[:5]) # Print first 5 valid annotation summaries\n",
        "\n",
        "else:\n",
        "    print(f\"Annotation directory '{annotation_dir}' not found.\")\n",
        "\n",
        "# Optional: Create a DataFrame of valid annotations for further analysis\n",
        "# if valid_annotations_data:\n",
        "#     # Flatten the structure if needed for DataFrame, e.g., one row per object\n",
        "#     flattened_data = []\n",
        "#     for ann in valid_annotations_data:\n",
        "#         img_filename = ann['filename']\n",
        "#         if not ann['objects']: # Handle images with no objects\n",
        "#              flattened_data.append({'image_filename': img_filename, 'object_name': None, 'xmin': None, 'ymin': None, 'xmax': None, 'ymax': None})\n",
        "#         else:\n",
        "#             for obj in ann['objects']:\n",
        "#                 flattened_data.append({\n",
        "#                     'image_filename': img_filename,\n",
        "#                     'object_name': obj['name'],\n",
        "#                     'xmin': obj['xmin'],\n",
        "#                     'ymin': obj['ymin'],\n",
        "#                     'xmax': obj['xmax'],\n",
        "#                     'ymax': obj['ymax']\n",
        "#                 })\n",
        "#     df_valid_annotations = pd.DataFrame(flattened_data)\n",
        "#     print(\"\\nDataFrame of valid annotations (first 5 rows):\")\n",
        "#     print(df_valid_annotations.head())"
      ],
      "metadata": {
        "colab": {
          "base_uri": "https://localhost:8080/"
        },
        "id": "KmanJmmx2n8B",
        "outputId": "22f3c441-46e6-4db2-9657-6d47f720a3bf"
      },
      "execution_count": 81,
      "outputs": [
        {
          "output_type": "stream",
          "name": "stdout",
          "text": [
            "\n",
            "--- Data Cleansing Summary ---\n",
            "Total XML files found: 300\n",
            "Number of invalid annotations found: 0\n"
          ]
        }
      ]
    },
    {
      "cell_type": "code",
      "source": [
        "import os\n",
        "import zipfile\n",
        "import shutil\n",
        "from tqdm.notebook import tqdm\n",
        "\n",
        "kaggle_owner = \"mbkinaci\"\n",
        "kaggle_dataset_slug = \"fruit-images-for-object-detection\"\n",
        "dataset_full_name = f\"{kaggle_owner}/{kaggle_dataset_slug}\"\n",
        "\n",
        "destination_folder = \"/content/fruit_dataset\"\n",
        "\n",
        "# สร้างโฟลเดอร์ปลายทางถ้ายังไม่มี\n",
        "os.makedirs(destination_folder, exist_ok=True)\n",
        "\n",
        "print(f\"Downloading dataset: {dataset_full_name} to {destination_folder} using Kaggle CLI...\")\n",
        "\n",
        "try:\n",
        "\n",
        "    !kaggle datasets download -d {dataset_full_name} -p {destination_folder} --unzip\n",
        "\n",
        "    print(f\"Dataset '{dataset_full_name}' downloaded and unzipped to: {destination_folder}\")\n",
        "\n",
        "    zip_files_in_dest = [f for f in os.listdir(destination_folder) if f.endswith('.zip')]\n",
        "\n",
        "    if zip_files_in_dest:\n",
        "        print(\"\\nFound zip files in destination folder, extracting them...\")\n",
        "        for zip_file in tqdm(zip_files_in_dest, desc=\"Extracting remaining zip files\"):\n",
        "            zip_path = os.path.join(destination_folder, zip_file)\n",
        "            # แตกไฟล์ไปที่ subfolder เดียวกัน\n",
        "            extract_folder = os.path.join(destination_folder, os.path.splitext(zip_file)[0])\n",
        "            os.makedirs(extract_folder, exist_ok=True) # ตรวจสอบให้แน่ใจว่าโฟลเดอร์ปลายทางมีอยู่\n",
        "            print(f\"Extracting {zip_file} to {extract_folder}...\")\n",
        "            with zipfile.ZipFile(zip_path, 'r') as zip_ref:\n",
        "                zip_ref.extractall(extract_folder)\n",
        "            print(f\"Extracted {zip_file}.\")\n",
        "            # ลบไฟล์ zip หลังจากแตกไฟล์แล้วเพื่อประหยัดพื้นที่\n",
        "            os.remove(zip_path)\n",
        "    else:\n",
        "        print(\"No further zip files found in destination folder to extract.\")\n",
        "\n",
        "except Exception as e:\n",
        "    print(f\"An error occurred during dataset download or extraction: {e}\")\n",
        "    print(\"Please ensure your kaggle.json is correctly uploaded and configured.\")\n",
        "    print(\"Also, check the exact name of the dataset 'mbkinaci/fruit-images-for-object-detection' on Kaggle.\")\n",
        "\n",
        "\n",
        "print(\"\\nDataset structure after extraction:\")\n",
        "# แสดงโครงสร้างของโฟลเดอร์หลัก 2-3 ระดับแรก\n",
        "!ls -R {destination_folder} | head -n 30"
      ],
      "metadata": {
        "colab": {
          "base_uri": "https://localhost:8080/"
        },
        "collapsed": true,
        "id": "fxY5vRvycMXu",
        "outputId": "86463a92-7518-4747-ff87-d788aba9b556"
      },
      "execution_count": 68,
      "outputs": [
        {
          "output_type": "stream",
          "name": "stdout",
          "text": [
            "Downloading dataset: mbkinaci/fruit-images-for-object-detection to /content/fruit_dataset using Kaggle CLI...\n",
            "Dataset URL: https://www.kaggle.com/datasets/mbkinaci/fruit-images-for-object-detection\n",
            "License(s): CC0-1.0\n",
            "Downloading fruit-images-for-object-detection.zip to /content/fruit_dataset\n",
            " 71% 20.0M/28.4M [00:00<00:00, 208MB/s]\n",
            "100% 28.4M/28.4M [00:00<00:00, 171MB/s]\n",
            "Dataset 'mbkinaci/fruit-images-for-object-detection' downloaded and unzipped to: /content/fruit_dataset\n",
            "No further zip files found in destination folder to extract.\n",
            "\n",
            "Dataset structure after extraction:\n",
            "/content/fruit_dataset:\n",
            "all_images\n",
            "test_zip\n",
            "train_zip\n",
            "\n",
            "/content/fruit_dataset/all_images:\n",
            "apple_10.jpg\n",
            "apple_10.xml\n",
            "apple_11.jpg\n",
            "apple_11.xml\n",
            "apple_12.jpg\n",
            "apple_12.xml\n",
            "apple_13.jpg\n",
            "apple_13.xml\n",
            "apple_14.jpg\n",
            "apple_14.xml\n",
            "apple_15.jpg\n",
            "apple_15.xml\n",
            "apple_16.jpg\n",
            "apple_16.xml\n",
            "apple_17.jpg\n",
            "apple_17.xml\n",
            "apple_18.jpg\n",
            "apple_18.xml\n",
            "apple_19.jpg\n",
            "apple_19.xml\n",
            "apple_1.jpg\n",
            "apple_1.xml\n",
            "apple_20.jpg\n",
            "apple_20.xml\n"
          ]
        }
      ]
    },
    {
      "cell_type": "markdown",
      "source": [
        "# **Train/Test Split**"
      ],
      "metadata": {
        "id": "4mt2QuonutVq"
      }
    },
    {
      "cell_type": "code",
      "source": [
        "import os\n",
        "import shutil\n",
        "import xml.etree.ElementTree as ET\n",
        "from PIL import Image\n",
        "from sklearn.model_selection import train_test_split\n",
        "from tqdm.notebook import tqdm\n",
        "\n",
        "# กำหนดพารามิเตอร์\n",
        "split_ratio = 0.8  # 80% สำหรับ train, 20% สำหรับ test\n",
        "\n",
        "# Path ต้นทาง\n",
        "dataset_path = \"/content/fruit_dataset/all_images\"  # รวมภาพและ .xml ไว้ด้วยกัน\n",
        "\n",
        "# Path ปลายทาง YOLO format\n",
        "yolo_data_path = \"/content/yolo_dataset\"\n",
        "yolo_images_train_path = os.path.join(yolo_data_path, \"images\", \"train\")\n",
        "yolo_labels_train_path = os.path.join(yolo_data_path, \"labels\", \"train\")\n",
        "yolo_images_test_path = os.path.join(yolo_data_path, \"images\", \"test\")\n",
        "yolo_labels_test_path = os.path.join(yolo_data_path, \"labels\", \"test\")\n",
        "\n",
        "# สร้างโฟลเดอร์ปลายทาง\n",
        "os.makedirs(yolo_images_train_path, exist_ok=True)\n",
        "os.makedirs(yolo_labels_train_path, exist_ok=True)\n",
        "os.makedirs(yolo_images_test_path, exist_ok=True)\n",
        "os.makedirs(yolo_labels_test_path, exist_ok=True)\n",
        "\n",
        "# กำหนดคลาสของวัตถุ\n",
        "class_names = [\"apple\", \"banana\", \"orange\"]\n",
        "\n",
        "def convert_xml_to_yolo(xml_file_path, image_width, image_height):\n",
        "    tree = ET.parse(xml_file_path)\n",
        "    root = tree.getroot()\n",
        "\n",
        "    yolo_annotations = []\n",
        "    for obj in root.findall('object'):\n",
        "        name = obj.find('name').text\n",
        "        if name not in class_names:\n",
        "            print(f\"Warning: Unknown class '{name}' in {xml_file_path}\")\n",
        "            continue\n",
        "        class_id = class_names.index(name)\n",
        "        bndbox = obj.find('bndbox')\n",
        "        xmin = float(bndbox.find('xmin').text)\n",
        "        ymin = float(bndbox.find('ymin').text)\n",
        "        xmax = float(bndbox.find('xmax').text)\n",
        "        ymax = float(bndbox.find('ymax').text)\n",
        "\n",
        "        center_x = (xmin + xmax) / 2 / image_width\n",
        "        center_y = (ymin + ymax) / 2 / image_height\n",
        "        width = (xmax - xmin) / image_width\n",
        "        height = (ymax - ymin) / image_height\n",
        "\n",
        "        yolo_annotations.append(f\"{class_id} {center_x} {center_y} {width} {height}\")\n",
        "    return yolo_annotations\n",
        "\n",
        "def process_split(image_list, image_target_dir, label_target_dir):\n",
        "    for image_file in tqdm(image_list):\n",
        "        base_name = os.path.splitext(image_file)[0]\n",
        "        xml_file = base_name + \".xml\"\n",
        "        xml_path = os.path.join(dataset_path, xml_file)\n",
        "        img_path = os.path.join(dataset_path, image_file)\n",
        "\n",
        "        if not os.path.exists(xml_path):\n",
        "            print(f\"Warning: XML missing for {image_file}\")\n",
        "            continue\n",
        "\n",
        "        try:\n",
        "            with Image.open(img_path) as img:\n",
        "                w, h = img.size\n",
        "        except Exception as e:\n",
        "            print(f\"Error reading image size: {image_file} - {e}\")\n",
        "            continue\n",
        "\n",
        "        annotations = convert_xml_to_yolo(xml_path, w, h)\n",
        "\n",
        "        # Copy image\n",
        "        shutil.copy(img_path, os.path.join(image_target_dir, image_file))\n",
        "\n",
        "        # Write label\n",
        "        label_path = os.path.join(label_target_dir, base_name + \".txt\")\n",
        "        with open(label_path, \"w\") as f:\n",
        "            for line in annotations:\n",
        "                f.write(line + \"\\n\")\n",
        "\n",
        "# รายชื่อไฟล์ภาพ\n",
        "all_images = [f for f in os.listdir(dataset_path) if f.lower().endswith(('.jpg', '.png', '.jpeg'))]\n",
        "\n",
        "# แบ่ง train/test\n",
        "train_files, test_files = train_test_split(all_images, train_size=split_ratio, random_state=42)\n",
        "\n",
        "print(f\"Total images: {len(all_images)} | Train: {len(train_files)} | Test: {len(test_files)}\")\n",
        "\n",
        "# ประมวลผล\n",
        "process_split(train_files, yolo_images_train_path, yolo_labels_train_path)\n",
        "process_split(test_files, yolo_images_test_path, yolo_labels_test_path)\n",
        "\n",
        "print(\"\\n✅ Split & conversion complete.\")\n",
        "print(f\"Train images: {len(os.listdir(yolo_images_train_path))}\")\n",
        "print(f\"Test images: {len(os.listdir(yolo_images_test_path))}\")\n"
      ],
      "metadata": {
        "colab": {
          "base_uri": "https://localhost:8080/",
          "height": 168,
          "referenced_widgets": [
            "3fb56b811c48418ca7ac9ac820096d32",
            "932cbb15a308492a97d5079dcc75e524",
            "4d459e095a784855ab8a8b05182df944",
            "4d01210dce0945db822d94787d0699e5",
            "eff9638a95824653a1eeac0203732569",
            "918f8a7b06114c08aa09e4713cf16b70",
            "85831ef8860d41ce840b70e73cb40862",
            "d43cd2ec225f41e6b4dec21049f5c9b3",
            "15e6624022b3412abb83fb590cef2cbb",
            "434eac57de2647a8a29c0d3dda5b5986",
            "ecbc9ba127d94c3099ebb285dc6ccec9",
            "05cf2b8e452141e4ac04d542846c4fb3",
            "d88e04a3fc6d4d948ebb50382eabbad2",
            "167317f8a73c45f48951670056f5c2b7",
            "6756cf3bb637414b82eea591354a151a",
            "6a6467e743464667a31f96c4ff1fc3ad",
            "3a2bf28b57bb4484a565494b5ffe3450",
            "e3505d2b44bc40f7b835412b4463a4e9",
            "1310286330be46aa9f54b8332f32e116",
            "39aaeaed0ee24fe598a4fa9ca379d1de",
            "89e96113b7ba4c0e841edff61e824e48",
            "18d83ddf3cc14cedaccbd9b91edd7f39"
          ]
        },
        "collapsed": true,
        "id": "TBvfpcqmdNOX",
        "outputId": "d15be63e-de0f-4e86-9712-b8c298bcfd5c"
      },
      "execution_count": 69,
      "outputs": [
        {
          "output_type": "stream",
          "name": "stdout",
          "text": [
            "Total images: 300 | Train: 240 | Test: 60\n"
          ]
        },
        {
          "output_type": "display_data",
          "data": {
            "text/plain": [
              "  0%|          | 0/240 [00:00<?, ?it/s]"
            ],
            "application/vnd.jupyter.widget-view+json": {
              "version_major": 2,
              "version_minor": 0,
              "model_id": "3fb56b811c48418ca7ac9ac820096d32"
            }
          },
          "metadata": {}
        },
        {
          "output_type": "display_data",
          "data": {
            "text/plain": [
              "  0%|          | 0/60 [00:00<?, ?it/s]"
            ],
            "application/vnd.jupyter.widget-view+json": {
              "version_major": 2,
              "version_minor": 0,
              "model_id": "05cf2b8e452141e4ac04d542846c4fb3"
            }
          },
          "metadata": {}
        },
        {
          "output_type": "stream",
          "name": "stdout",
          "text": [
            "\n",
            "✅ Split & conversion complete.\n",
            "Train images: 290\n",
            "Test images: 110\n"
          ]
        }
      ]
    },
    {
      "cell_type": "code",
      "source": [
        "import yaml\n",
        "import os\n",
        "\n",
        "# Path ไปยังโฟลเดอร์ dataset ที่เตรียมไว้\n",
        "yolo_data_path = \"/content/yolo_dataset\"\n",
        "\n",
        "# กำหนดคลาสของวัตถุ (ต้องตรงกับ class_names ที่แก้ไขในขั้นตอนที่ 2)\n",
        "# !!! ตรวจสอบว่าตรงกับที่คุณแก้ไขไปในขั้นตอนที่ 2 แล้ว\n",
        "class_names = [\"apple\", \"banana\", \"orange\"]\n",
        "\n",
        "data_yaml = {\n",
        "    'path': yolo_data_path,  # Root path ของ dataset\n",
        "    'train': 'images/train', # Path ไปยังโฟลเดอร์รูปภาพ train (สัมพันธ์กับ 'path')\n",
        "    'val': 'images/test',    # Path ไปยังโฟลเดอร์รูปภาพ validation/test (สัมพันธ์กับ 'path')\n",
        "    'names': {i: name for i, name in enumerate(class_names)}, # Mapping class ID to class name\n",
        "    'nc': len(class_names)   # จำนวนคลาส\n",
        "}\n",
        "\n",
        "# บันทึกไฟล์ YAML\n",
        "yaml_path = os.path.join(yolo_data_path, 'data.yaml')\n",
        "with open(yaml_path, 'w') as f:\n",
        "    yaml.dump(data_yaml, f)\n",
        "\n",
        "print(f\"Dataset YAML file created at: {yaml_path}\")\n",
        "print(\"Content of data.yaml:\")\n",
        "!cat {yaml_path}"
      ],
      "metadata": {
        "colab": {
          "base_uri": "https://localhost:8080/"
        },
        "collapsed": true,
        "id": "tjDi_yUBdVlj",
        "outputId": "b5039f17-6f7c-4943-d9a0-18d559d59178"
      },
      "execution_count": 70,
      "outputs": [
        {
          "output_type": "stream",
          "name": "stdout",
          "text": [
            "Dataset YAML file created at: /content/yolo_dataset/data.yaml\n",
            "Content of data.yaml:\n",
            "names:\n",
            "  0: apple\n",
            "  1: banana\n",
            "  2: orange\n",
            "nc: 3\n",
            "path: /content/yolo_dataset\n",
            "train: images/train\n",
            "val: images/test\n"
          ]
        }
      ]
    },
    {
      "cell_type": "markdown",
      "source": [
        "\n",
        "\n",
        "# **> การฝึกโมเดล (Model Training)**\n",
        "\n"
      ],
      "metadata": {
        "id": "xIqJKmyUsvIQ"
      }
    },
    {
      "cell_type": "code",
      "source": [
        "from ultralytics import YOLO\n",
        "import os\n",
        "\n",
        "# โหลดโมเดล YOLOv8 ที่ train มาแล้ว (pre-trained weights)\n",
        "# เราจะใช้โมเดล 'yolov8n.pt' (n คือ nano model ซึ่งเล็กและเร็ว เหมาะสำหรับเริ่มต้น)\n",
        "# คุณสามารถลองโมเดลที่ใหญ่ขึ้นได้ เช่น 'yolov8s.pt' (small), 'yolov8m.pt' (medium)\n",
        "model = YOLO('yolov8n.pt')\n",
        "\n",
        "# กำหนด Path ไปยังไฟล์ YAML ของ dataset\n",
        "yaml_data_path = \"/content/yolo_dataset/data.yaml\"\n",
        "\n",
        "# เริ่มกระบวนการ Train!\n",
        "# epochs: จำนวนรอบของการฝึก (ยิ่งมากยิ่งเรียนรู้ได้ดีขึ้น แต่ระวัง overfitting)\n",
        "# imgsz: ขนาดของภาพที่ใช้ในการ train (ควรปรับตามขนาดภาพใน dataset)\n",
        "# batch: จำนวนภาพที่ประมวลผลในแต่ละครั้ง (ยิ่งมากยิ่งใช้ GPU memory มาก)\n",
        "# name: ชื่อของ run (ผลลัพธ์จะถูกบันทึกใน runs/detect/name)\n",
        "# device: '0' หมายถึงใช้ GPU ตัวแรก ถ้าไม่มี GPU ใช้ 'cpu'\n",
        "results = model.train(\n",
        "    data=yaml_data_path,\n",
        "    epochs=30, # เริ่มด้วย 100 epochs เพื่อให้โมเดลมีโอกาสเรียนรู้มากขึ้น\n",
        "    imgsz=640, # ขนาดภาพที่ใช้ในการ train\n",
        "    batch=16,  # Batch size\n",
        "    name='fruit_detection_yolov8n',\n",
        "    device=0   # ใช้ GPU\n",
        ")\n",
        "\n",
        "print(\"\\nTraining complete! Results saved in runs/detect/fruit_detection_yolov8n\")"
      ],
      "metadata": {
        "colab": {
          "base_uri": "https://localhost:8080/"
        },
        "id": "tK7X9aSEdXcV",
        "outputId": "59090eb5-4464-4361-9b3a-4f52e762c305"
      },
      "execution_count": 71,
      "outputs": [
        {
          "output_type": "stream",
          "name": "stdout",
          "text": [
            "Ultralytics 8.3.160 🚀 Python-3.11.13 torch-2.6.0+cu124 CUDA:0 (Tesla T4, 15095MiB)\n",
            "\u001b[34m\u001b[1mengine/trainer: \u001b[0magnostic_nms=False, amp=True, augment=False, auto_augment=randaugment, batch=16, bgr=0.0, box=7.5, cache=False, cfg=None, classes=None, close_mosaic=10, cls=0.5, conf=None, copy_paste=0.0, copy_paste_mode=flip, cos_lr=False, cutmix=0.0, data=/content/yolo_dataset/data.yaml, degrees=0.0, deterministic=True, device=0, dfl=1.5, dnn=False, dropout=0.0, dynamic=False, embed=None, epochs=30, erasing=0.4, exist_ok=False, fliplr=0.5, flipud=0.0, format=torchscript, fraction=1.0, freeze=None, half=False, hsv_h=0.015, hsv_s=0.7, hsv_v=0.4, imgsz=640, int8=False, iou=0.7, keras=False, kobj=1.0, line_width=None, lr0=0.01, lrf=0.01, mask_ratio=4, max_det=300, mixup=0.0, mode=train, model=yolov8n.pt, momentum=0.937, mosaic=1.0, multi_scale=False, name=fruit_detection_yolov8n3, nbs=64, nms=False, opset=None, optimize=False, optimizer=auto, overlap_mask=True, patience=100, perspective=0.0, plots=True, pose=12.0, pretrained=True, profile=False, project=None, rect=False, resume=False, retina_masks=False, save=True, save_conf=False, save_crop=False, save_dir=runs/detect/fruit_detection_yolov8n3, save_frames=False, save_json=False, save_period=-1, save_txt=False, scale=0.5, seed=0, shear=0.0, show=False, show_boxes=True, show_conf=True, show_labels=True, simplify=True, single_cls=False, source=None, split=val, stream_buffer=False, task=detect, time=None, tracker=botsort.yaml, translate=0.1, val=True, verbose=True, vid_stride=1, visualize=False, warmup_bias_lr=0.1, warmup_epochs=3.0, warmup_momentum=0.8, weight_decay=0.0005, workers=8, workspace=None\n",
            "Overriding model.yaml nc=80 with nc=3\n",
            "\n",
            "                   from  n    params  module                                       arguments                     \n",
            "  0                  -1  1       464  ultralytics.nn.modules.conv.Conv             [3, 16, 3, 2]                 \n",
            "  1                  -1  1      4672  ultralytics.nn.modules.conv.Conv             [16, 32, 3, 2]                \n",
            "  2                  -1  1      7360  ultralytics.nn.modules.block.C2f             [32, 32, 1, True]             \n",
            "  3                  -1  1     18560  ultralytics.nn.modules.conv.Conv             [32, 64, 3, 2]                \n",
            "  4                  -1  2     49664  ultralytics.nn.modules.block.C2f             [64, 64, 2, True]             \n",
            "  5                  -1  1     73984  ultralytics.nn.modules.conv.Conv             [64, 128, 3, 2]               \n",
            "  6                  -1  2    197632  ultralytics.nn.modules.block.C2f             [128, 128, 2, True]           \n",
            "  7                  -1  1    295424  ultralytics.nn.modules.conv.Conv             [128, 256, 3, 2]              \n",
            "  8                  -1  1    460288  ultralytics.nn.modules.block.C2f             [256, 256, 1, True]           \n",
            "  9                  -1  1    164608  ultralytics.nn.modules.block.SPPF            [256, 256, 5]                 \n",
            " 10                  -1  1         0  torch.nn.modules.upsampling.Upsample         [None, 2, 'nearest']          \n",
            " 11             [-1, 6]  1         0  ultralytics.nn.modules.conv.Concat           [1]                           \n",
            " 12                  -1  1    148224  ultralytics.nn.modules.block.C2f             [384, 128, 1]                 \n",
            " 13                  -1  1         0  torch.nn.modules.upsampling.Upsample         [None, 2, 'nearest']          \n",
            " 14             [-1, 4]  1         0  ultralytics.nn.modules.conv.Concat           [1]                           \n",
            " 15                  -1  1     37248  ultralytics.nn.modules.block.C2f             [192, 64, 1]                  \n",
            " 16                  -1  1     36992  ultralytics.nn.modules.conv.Conv             [64, 64, 3, 2]                \n",
            " 17            [-1, 12]  1         0  ultralytics.nn.modules.conv.Concat           [1]                           \n",
            " 18                  -1  1    123648  ultralytics.nn.modules.block.C2f             [192, 128, 1]                 \n",
            " 19                  -1  1    147712  ultralytics.nn.modules.conv.Conv             [128, 128, 3, 2]              \n",
            " 20             [-1, 9]  1         0  ultralytics.nn.modules.conv.Concat           [1]                           \n",
            " 21                  -1  1    493056  ultralytics.nn.modules.block.C2f             [384, 256, 1]                 \n",
            " 22        [15, 18, 21]  1    751897  ultralytics.nn.modules.head.Detect           [3, [64, 128, 256]]           \n",
            "Model summary: 129 layers, 3,011,433 parameters, 3,011,417 gradients, 8.2 GFLOPs\n",
            "\n",
            "Transferred 319/355 items from pretrained weights\n",
            "Freezing layer 'model.22.dfl.conv.weight'\n",
            "\u001b[34m\u001b[1mAMP: \u001b[0mrunning Automatic Mixed Precision (AMP) checks...\n",
            "\u001b[34m\u001b[1mAMP: \u001b[0mchecks passed ✅\n",
            "\u001b[34m\u001b[1mtrain: \u001b[0mFast image access ✅ (ping: 0.0±0.0 ms, read: 1576.1±728.8 MB/s, size: 169.2 KB)\n"
          ]
        },
        {
          "output_type": "stream",
          "name": "stderr",
          "text": [
            "\u001b[34m\u001b[1mtrain: \u001b[0mScanning /content/yolo_dataset/labels/train... 290 images, 0 backgrounds, 0 corrupt: 100%|██████████| 290/290 [00:00<00:00, 1549.90it/s]"
          ]
        },
        {
          "output_type": "stream",
          "name": "stdout",
          "text": [
            "\u001b[34m\u001b[1mtrain: \u001b[0mNew cache created: /content/yolo_dataset/labels/train.cache\n"
          ]
        },
        {
          "output_type": "stream",
          "name": "stderr",
          "text": [
            "\n"
          ]
        },
        {
          "output_type": "stream",
          "name": "stdout",
          "text": [
            "\u001b[34m\u001b[1malbumentations: \u001b[0mBlur(p=0.01, blur_limit=(3, 7)), MedianBlur(p=0.01, blur_limit=(3, 7)), ToGray(p=0.01, method='weighted_average', num_output_channels=3), CLAHE(p=0.01, clip_limit=(1.0, 4.0), tile_grid_size=(8, 8))\n",
            "\u001b[34m\u001b[1mval: \u001b[0mFast image access ✅ (ping: 0.0±0.0 ms, read: 522.9±357.1 MB/s, size: 114.1 KB)\n"
          ]
        },
        {
          "output_type": "stream",
          "name": "stderr",
          "text": [
            "\u001b[34m\u001b[1mval: \u001b[0mScanning /content/yolo_dataset/labels/test... 110 images, 0 backgrounds, 0 corrupt: 100%|██████████| 110/110 [00:00<00:00, 536.58it/s]"
          ]
        },
        {
          "output_type": "stream",
          "name": "stdout",
          "text": [
            "\u001b[34m\u001b[1mval: \u001b[0m/content/yolo_dataset/images/test/apple_62.jpg: corrupt JPEG restored and saved\n",
            "\u001b[34m\u001b[1mval: \u001b[0mNew cache created: /content/yolo_dataset/labels/test.cache\n"
          ]
        },
        {
          "output_type": "stream",
          "name": "stderr",
          "text": [
            "\n"
          ]
        },
        {
          "output_type": "stream",
          "name": "stdout",
          "text": [
            "Plotting labels to runs/detect/fruit_detection_yolov8n3/labels.jpg... \n",
            "\u001b[34m\u001b[1moptimizer:\u001b[0m 'optimizer=auto' found, ignoring 'lr0=0.01' and 'momentum=0.937' and determining best 'optimizer', 'lr0' and 'momentum' automatically... \n",
            "\u001b[34m\u001b[1moptimizer:\u001b[0m AdamW(lr=0.001429, momentum=0.9) with parameter groups 57 weight(decay=0.0), 64 weight(decay=0.0005), 63 bias(decay=0.0)\n",
            "Image sizes 640 train, 640 val\n",
            "Using 2 dataloader workers\n",
            "Logging results to \u001b[1mruns/detect/fruit_detection_yolov8n3\u001b[0m\n",
            "Starting training for 30 epochs...\n",
            "\n",
            "      Epoch    GPU_mem   box_loss   cls_loss   dfl_loss  Instances       Size\n"
          ]
        },
        {
          "output_type": "stream",
          "name": "stderr",
          "text": [
            "       1/30      2.09G      1.143      2.826      1.501         16        640: 100%|██████████| 19/19 [00:10<00:00,  1.80it/s]\n",
            "                 Class     Images  Instances      Box(P          R      mAP50  mAP50-95): 100%|██████████| 4/4 [00:01<00:00,  2.95it/s]"
          ]
        },
        {
          "output_type": "stream",
          "name": "stdout",
          "text": [
            "                   all        110        226    0.00653      0.953      0.479      0.322\n"
          ]
        },
        {
          "output_type": "stream",
          "name": "stderr",
          "text": [
            "\n"
          ]
        },
        {
          "output_type": "stream",
          "name": "stdout",
          "text": [
            "\n",
            "      Epoch    GPU_mem   box_loss   cls_loss   dfl_loss  Instances       Size\n"
          ]
        },
        {
          "output_type": "stream",
          "name": "stderr",
          "text": [
            "       2/30       2.4G      1.181      2.075      1.506          3        640: 100%|██████████| 19/19 [00:06<00:00,  2.82it/s]\n",
            "                 Class     Images  Instances      Box(P          R      mAP50  mAP50-95): 100%|██████████| 4/4 [00:01<00:00,  3.13it/s]"
          ]
        },
        {
          "output_type": "stream",
          "name": "stdout",
          "text": [
            "                   all        110        226      0.798      0.282      0.624        0.4\n"
          ]
        },
        {
          "output_type": "stream",
          "name": "stderr",
          "text": [
            "\n"
          ]
        },
        {
          "output_type": "stream",
          "name": "stdout",
          "text": [
            "\n",
            "      Epoch    GPU_mem   box_loss   cls_loss   dfl_loss  Instances       Size\n"
          ]
        },
        {
          "output_type": "stream",
          "name": "stderr",
          "text": [
            "       3/30       2.4G      1.111      1.611      1.411         15        640: 100%|██████████| 19/19 [00:05<00:00,  3.52it/s]\n",
            "                 Class     Images  Instances      Box(P          R      mAP50  mAP50-95): 100%|██████████| 4/4 [00:02<00:00,  1.97it/s]"
          ]
        },
        {
          "output_type": "stream",
          "name": "stdout",
          "text": [
            "                   all        110        226      0.723      0.686      0.765      0.493\n"
          ]
        },
        {
          "output_type": "stream",
          "name": "stderr",
          "text": [
            "\n"
          ]
        },
        {
          "output_type": "stream",
          "name": "stdout",
          "text": [
            "\n",
            "      Epoch    GPU_mem   box_loss   cls_loss   dfl_loss  Instances       Size\n"
          ]
        },
        {
          "output_type": "stream",
          "name": "stderr",
          "text": [
            "       4/30       2.4G      1.093      1.488      1.384          5        640: 100%|██████████| 19/19 [00:05<00:00,  3.50it/s]\n",
            "                 Class     Images  Instances      Box(P          R      mAP50  mAP50-95): 100%|██████████| 4/4 [00:01<00:00,  2.60it/s]"
          ]
        },
        {
          "output_type": "stream",
          "name": "stdout",
          "text": [
            "                   all        110        226      0.576      0.603      0.545      0.336\n"
          ]
        },
        {
          "output_type": "stream",
          "name": "stderr",
          "text": [
            "\n"
          ]
        },
        {
          "output_type": "stream",
          "name": "stdout",
          "text": [
            "\n",
            "      Epoch    GPU_mem   box_loss   cls_loss   dfl_loss  Instances       Size\n"
          ]
        },
        {
          "output_type": "stream",
          "name": "stderr",
          "text": [
            "       5/30       2.4G      1.096      1.483      1.417          8        640: 100%|██████████| 19/19 [00:06<00:00,  3.02it/s]\n",
            "                 Class     Images  Instances      Box(P          R      mAP50  mAP50-95): 100%|██████████| 4/4 [00:01<00:00,  2.56it/s]\n"
          ]
        },
        {
          "output_type": "stream",
          "name": "stdout",
          "text": [
            "                   all        110        226      0.687      0.628      0.674      0.405\n",
            "\n",
            "      Epoch    GPU_mem   box_loss   cls_loss   dfl_loss  Instances       Size\n"
          ]
        },
        {
          "output_type": "stream",
          "name": "stderr",
          "text": [
            "       6/30       2.4G      1.086      1.395      1.384          5        640: 100%|██████████| 19/19 [00:05<00:00,  3.62it/s]\n",
            "                 Class     Images  Instances      Box(P          R      mAP50  mAP50-95): 100%|██████████| 4/4 [00:01<00:00,  2.58it/s]"
          ]
        },
        {
          "output_type": "stream",
          "name": "stdout",
          "text": [
            "                   all        110        226      0.669      0.713      0.741      0.503\n"
          ]
        },
        {
          "output_type": "stream",
          "name": "stderr",
          "text": [
            "\n"
          ]
        },
        {
          "output_type": "stream",
          "name": "stdout",
          "text": [
            "\n",
            "      Epoch    GPU_mem   box_loss   cls_loss   dfl_loss  Instances       Size\n"
          ]
        },
        {
          "output_type": "stream",
          "name": "stderr",
          "text": [
            "       7/30       2.4G      1.096        1.4      1.385         15        640: 100%|██████████| 19/19 [00:06<00:00,  2.90it/s]\n",
            "                 Class     Images  Instances      Box(P          R      mAP50  mAP50-95): 100%|██████████| 4/4 [00:01<00:00,  2.71it/s]\n"
          ]
        },
        {
          "output_type": "stream",
          "name": "stdout",
          "text": [
            "                   all        110        226      0.658      0.741      0.819      0.539\n",
            "\n",
            "      Epoch    GPU_mem   box_loss   cls_loss   dfl_loss  Instances       Size\n"
          ]
        },
        {
          "output_type": "stream",
          "name": "stderr",
          "text": [
            "       8/30       2.4G      1.087      1.297      1.369          6        640: 100%|██████████| 19/19 [00:07<00:00,  2.57it/s]\n",
            "                 Class     Images  Instances      Box(P          R      mAP50  mAP50-95): 100%|██████████| 4/4 [00:01<00:00,  2.17it/s]"
          ]
        },
        {
          "output_type": "stream",
          "name": "stdout",
          "text": [
            "                   all        110        226      0.685      0.714      0.759      0.467\n"
          ]
        },
        {
          "output_type": "stream",
          "name": "stderr",
          "text": [
            "\n"
          ]
        },
        {
          "output_type": "stream",
          "name": "stdout",
          "text": [
            "\n",
            "      Epoch    GPU_mem   box_loss   cls_loss   dfl_loss  Instances       Size\n"
          ]
        },
        {
          "output_type": "stream",
          "name": "stderr",
          "text": [
            "       9/30       2.4G      1.069      1.259      1.351         12        640: 100%|██████████| 19/19 [00:05<00:00,  3.68it/s]\n",
            "                 Class     Images  Instances      Box(P          R      mAP50  mAP50-95): 100%|██████████| 4/4 [00:01<00:00,  2.66it/s]\n"
          ]
        },
        {
          "output_type": "stream",
          "name": "stdout",
          "text": [
            "                   all        110        226      0.869      0.772      0.851      0.565\n",
            "\n",
            "      Epoch    GPU_mem   box_loss   cls_loss   dfl_loss  Instances       Size\n"
          ]
        },
        {
          "output_type": "stream",
          "name": "stderr",
          "text": [
            "      10/30       2.4G      1.049      1.193      1.338          6        640: 100%|██████████| 19/19 [00:09<00:00,  2.02it/s]\n",
            "                 Class     Images  Instances      Box(P          R      mAP50  mAP50-95): 100%|██████████| 4/4 [00:01<00:00,  3.09it/s]\n"
          ]
        },
        {
          "output_type": "stream",
          "name": "stdout",
          "text": [
            "                   all        110        226      0.726      0.731        0.8      0.568\n",
            "\n",
            "      Epoch    GPU_mem   box_loss   cls_loss   dfl_loss  Instances       Size\n"
          ]
        },
        {
          "output_type": "stream",
          "name": "stderr",
          "text": [
            "      11/30       2.4G      1.007      1.157      1.326          6        640: 100%|██████████| 19/19 [00:06<00:00,  2.91it/s]\n",
            "                 Class     Images  Instances      Box(P          R      mAP50  mAP50-95): 100%|██████████| 4/4 [00:01<00:00,  2.49it/s]"
          ]
        },
        {
          "output_type": "stream",
          "name": "stdout",
          "text": [
            "                   all        110        226      0.847      0.755      0.861      0.585\n"
          ]
        },
        {
          "output_type": "stream",
          "name": "stderr",
          "text": [
            "\n"
          ]
        },
        {
          "output_type": "stream",
          "name": "stdout",
          "text": [
            "\n",
            "      Epoch    GPU_mem   box_loss   cls_loss   dfl_loss  Instances       Size\n"
          ]
        },
        {
          "output_type": "stream",
          "name": "stderr",
          "text": [
            "      12/30       2.4G      1.024      1.138      1.304         11        640: 100%|██████████| 19/19 [00:05<00:00,  3.43it/s]\n",
            "                 Class     Images  Instances      Box(P          R      mAP50  mAP50-95): 100%|██████████| 4/4 [00:01<00:00,  2.68it/s]"
          ]
        },
        {
          "output_type": "stream",
          "name": "stdout",
          "text": [
            "                   all        110        226       0.81      0.802      0.863      0.605\n"
          ]
        },
        {
          "output_type": "stream",
          "name": "stderr",
          "text": [
            "\n"
          ]
        },
        {
          "output_type": "stream",
          "name": "stdout",
          "text": [
            "\n",
            "      Epoch    GPU_mem   box_loss   cls_loss   dfl_loss  Instances       Size\n"
          ]
        },
        {
          "output_type": "stream",
          "name": "stderr",
          "text": [
            "      13/30       2.4G      1.023      1.113      1.318          8        640: 100%|██████████| 19/19 [00:07<00:00,  2.61it/s]\n",
            "                 Class     Images  Instances      Box(P          R      mAP50  mAP50-95): 100%|██████████| 4/4 [00:01<00:00,  2.26it/s]"
          ]
        },
        {
          "output_type": "stream",
          "name": "stdout",
          "text": [
            "                   all        110        226      0.822      0.805      0.843      0.626\n"
          ]
        },
        {
          "output_type": "stream",
          "name": "stderr",
          "text": [
            "\n"
          ]
        },
        {
          "output_type": "stream",
          "name": "stdout",
          "text": [
            "\n",
            "      Epoch    GPU_mem   box_loss   cls_loss   dfl_loss  Instances       Size\n"
          ]
        },
        {
          "output_type": "stream",
          "name": "stderr",
          "text": [
            "      14/30       2.4G     0.9672      1.078      1.291         10        640: 100%|██████████| 19/19 [00:07<00:00,  2.58it/s]\n",
            "                 Class     Images  Instances      Box(P          R      mAP50  mAP50-95): 100%|██████████| 4/4 [00:01<00:00,  2.59it/s]\n"
          ]
        },
        {
          "output_type": "stream",
          "name": "stdout",
          "text": [
            "                   all        110        226      0.863      0.797        0.9       0.67\n",
            "\n",
            "      Epoch    GPU_mem   box_loss   cls_loss   dfl_loss  Instances       Size\n"
          ]
        },
        {
          "output_type": "stream",
          "name": "stderr",
          "text": [
            "      15/30       2.4G     0.9616      1.074      1.278          5        640: 100%|██████████| 19/19 [00:05<00:00,  3.35it/s]\n",
            "                 Class     Images  Instances      Box(P          R      mAP50  mAP50-95): 100%|██████████| 4/4 [00:01<00:00,  2.94it/s]"
          ]
        },
        {
          "output_type": "stream",
          "name": "stdout",
          "text": [
            "                   all        110        226      0.866      0.908      0.933      0.695\n"
          ]
        },
        {
          "output_type": "stream",
          "name": "stderr",
          "text": [
            "\n"
          ]
        },
        {
          "output_type": "stream",
          "name": "stdout",
          "text": [
            "\n",
            "      Epoch    GPU_mem   box_loss   cls_loss   dfl_loss  Instances       Size\n"
          ]
        },
        {
          "output_type": "stream",
          "name": "stderr",
          "text": [
            "      16/30       2.4G     0.9424      1.016      1.258         17        640: 100%|██████████| 19/19 [00:06<00:00,  2.78it/s]\n",
            "                 Class     Images  Instances      Box(P          R      mAP50  mAP50-95): 100%|██████████| 4/4 [00:01<00:00,  2.93it/s]"
          ]
        },
        {
          "output_type": "stream",
          "name": "stdout",
          "text": [
            "                   all        110        226      0.861      0.844      0.902       0.68\n"
          ]
        },
        {
          "output_type": "stream",
          "name": "stderr",
          "text": [
            "\n"
          ]
        },
        {
          "output_type": "stream",
          "name": "stdout",
          "text": [
            "\n",
            "      Epoch    GPU_mem   box_loss   cls_loss   dfl_loss  Instances       Size\n"
          ]
        },
        {
          "output_type": "stream",
          "name": "stderr",
          "text": [
            "      17/30       2.4G      0.914     0.9401      1.262         14        640: 100%|██████████| 19/19 [00:05<00:00,  3.53it/s]\n",
            "                 Class     Images  Instances      Box(P          R      mAP50  mAP50-95): 100%|██████████| 4/4 [00:02<00:00,  1.62it/s]"
          ]
        },
        {
          "output_type": "stream",
          "name": "stdout",
          "text": [
            "                   all        110        226      0.867      0.933       0.95      0.718\n"
          ]
        },
        {
          "output_type": "stream",
          "name": "stderr",
          "text": [
            "\n"
          ]
        },
        {
          "output_type": "stream",
          "name": "stdout",
          "text": [
            "\n",
            "      Epoch    GPU_mem   box_loss   cls_loss   dfl_loss  Instances       Size\n"
          ]
        },
        {
          "output_type": "stream",
          "name": "stderr",
          "text": [
            "      18/30       2.4G     0.9237      0.949      1.254          6        640: 100%|██████████| 19/19 [00:06<00:00,  2.94it/s]\n",
            "                 Class     Images  Instances      Box(P          R      mAP50  mAP50-95): 100%|██████████| 4/4 [00:01<00:00,  2.82it/s]\n"
          ]
        },
        {
          "output_type": "stream",
          "name": "stdout",
          "text": [
            "                   all        110        226      0.901      0.942      0.961      0.736\n",
            "\n",
            "      Epoch    GPU_mem   box_loss   cls_loss   dfl_loss  Instances       Size\n"
          ]
        },
        {
          "output_type": "stream",
          "name": "stderr",
          "text": [
            "      19/30       2.4G     0.9179     0.9496      1.233          9        640: 100%|██████████| 19/19 [00:08<00:00,  2.12it/s]\n",
            "                 Class     Images  Instances      Box(P          R      mAP50  mAP50-95): 100%|██████████| 4/4 [00:03<00:00,  1.30it/s]"
          ]
        },
        {
          "output_type": "stream",
          "name": "stdout",
          "text": [
            "                   all        110        226      0.949      0.901      0.965      0.737\n"
          ]
        },
        {
          "output_type": "stream",
          "name": "stderr",
          "text": [
            "\n"
          ]
        },
        {
          "output_type": "stream",
          "name": "stdout",
          "text": [
            "\n",
            "      Epoch    GPU_mem   box_loss   cls_loss   dfl_loss  Instances       Size\n"
          ]
        },
        {
          "output_type": "stream",
          "name": "stderr",
          "text": [
            "      20/30       2.4G     0.8956      0.924      1.229          5        640: 100%|██████████| 19/19 [00:06<00:00,  2.86it/s]\n",
            "                 Class     Images  Instances      Box(P          R      mAP50  mAP50-95): 100%|██████████| 4/4 [00:01<00:00,  2.61it/s]"
          ]
        },
        {
          "output_type": "stream",
          "name": "stdout",
          "text": [
            "                   all        110        226      0.869      0.915      0.955      0.741\n"
          ]
        },
        {
          "output_type": "stream",
          "name": "stderr",
          "text": [
            "\n"
          ]
        },
        {
          "output_type": "stream",
          "name": "stdout",
          "text": [
            "Closing dataloader mosaic\n",
            "\u001b[34m\u001b[1malbumentations: \u001b[0mBlur(p=0.01, blur_limit=(3, 7)), MedianBlur(p=0.01, blur_limit=(3, 7)), ToGray(p=0.01, method='weighted_average', num_output_channels=3), CLAHE(p=0.01, clip_limit=(1.0, 4.0), tile_grid_size=(8, 8))\n",
            "\n",
            "      Epoch    GPU_mem   box_loss   cls_loss   dfl_loss  Instances       Size\n"
          ]
        },
        {
          "output_type": "stream",
          "name": "stderr",
          "text": [
            "      21/30       2.4G     0.8766      1.134       1.27          4        640: 100%|██████████| 19/19 [00:08<00:00,  2.34it/s]\n",
            "                 Class     Images  Instances      Box(P          R      mAP50  mAP50-95): 100%|██████████| 4/4 [00:01<00:00,  2.05it/s]"
          ]
        },
        {
          "output_type": "stream",
          "name": "stdout",
          "text": [
            "                   all        110        226       0.87      0.883      0.949      0.702\n"
          ]
        },
        {
          "output_type": "stream",
          "name": "stderr",
          "text": [
            "\n"
          ]
        },
        {
          "output_type": "stream",
          "name": "stdout",
          "text": [
            "\n",
            "      Epoch    GPU_mem   box_loss   cls_loss   dfl_loss  Instances       Size\n"
          ]
        },
        {
          "output_type": "stream",
          "name": "stderr",
          "text": [
            "      22/30       2.4G     0.8123     0.9451      1.206          5        640: 100%|██████████| 19/19 [00:05<00:00,  3.68it/s]\n",
            "                 Class     Images  Instances      Box(P          R      mAP50  mAP50-95): 100%|██████████| 4/4 [00:01<00:00,  3.18it/s]"
          ]
        },
        {
          "output_type": "stream",
          "name": "stdout",
          "text": [
            "                   all        110        226      0.936      0.898      0.964      0.756\n"
          ]
        },
        {
          "output_type": "stream",
          "name": "stderr",
          "text": [
            "\n"
          ]
        },
        {
          "output_type": "stream",
          "name": "stdout",
          "text": [
            "\n",
            "      Epoch    GPU_mem   box_loss   cls_loss   dfl_loss  Instances       Size\n"
          ]
        },
        {
          "output_type": "stream",
          "name": "stderr",
          "text": [
            "      23/30       2.4G     0.7944     0.9204      1.195          8        640: 100%|██████████| 19/19 [00:06<00:00,  3.02it/s]\n",
            "                 Class     Images  Instances      Box(P          R      mAP50  mAP50-95): 100%|██████████| 4/4 [00:01<00:00,  2.51it/s]"
          ]
        },
        {
          "output_type": "stream",
          "name": "stdout",
          "text": [
            "                   all        110        226      0.885      0.959      0.964      0.746\n"
          ]
        },
        {
          "output_type": "stream",
          "name": "stderr",
          "text": [
            "\n"
          ]
        },
        {
          "output_type": "stream",
          "name": "stdout",
          "text": [
            "\n",
            "      Epoch    GPU_mem   box_loss   cls_loss   dfl_loss  Instances       Size\n"
          ]
        },
        {
          "output_type": "stream",
          "name": "stderr",
          "text": [
            "      24/30       2.4G     0.7519     0.8173      1.147          2        640: 100%|██████████| 19/19 [00:05<00:00,  3.32it/s]\n",
            "                 Class     Images  Instances      Box(P          R      mAP50  mAP50-95): 100%|██████████| 4/4 [00:01<00:00,  3.14it/s]"
          ]
        },
        {
          "output_type": "stream",
          "name": "stdout",
          "text": [
            "                   all        110        226      0.962      0.921      0.977      0.771\n"
          ]
        },
        {
          "output_type": "stream",
          "name": "stderr",
          "text": [
            "\n"
          ]
        },
        {
          "output_type": "stream",
          "name": "stdout",
          "text": [
            "\n",
            "      Epoch    GPU_mem   box_loss   cls_loss   dfl_loss  Instances       Size\n"
          ]
        },
        {
          "output_type": "stream",
          "name": "stderr",
          "text": [
            "      25/30       2.4G     0.7531      0.849      1.173          4        640: 100%|██████████| 19/19 [00:06<00:00,  2.93it/s]\n",
            "                 Class     Images  Instances      Box(P          R      mAP50  mAP50-95): 100%|██████████| 4/4 [00:01<00:00,  2.80it/s]"
          ]
        },
        {
          "output_type": "stream",
          "name": "stdout",
          "text": [
            "                   all        110        226      0.959      0.954      0.981      0.785\n"
          ]
        },
        {
          "output_type": "stream",
          "name": "stderr",
          "text": [
            "\n"
          ]
        },
        {
          "output_type": "stream",
          "name": "stdout",
          "text": [
            "\n",
            "      Epoch    GPU_mem   box_loss   cls_loss   dfl_loss  Instances       Size\n"
          ]
        },
        {
          "output_type": "stream",
          "name": "stderr",
          "text": [
            "      26/30       2.4G     0.7435     0.8829      1.168          2        640: 100%|██████████| 19/19 [00:05<00:00,  3.33it/s]\n",
            "                 Class     Images  Instances      Box(P          R      mAP50  mAP50-95): 100%|██████████| 4/4 [00:01<00:00,  2.02it/s]"
          ]
        },
        {
          "output_type": "stream",
          "name": "stdout",
          "text": [
            "                   all        110        226      0.948      0.964      0.982      0.793\n"
          ]
        },
        {
          "output_type": "stream",
          "name": "stderr",
          "text": [
            "\n"
          ]
        },
        {
          "output_type": "stream",
          "name": "stdout",
          "text": [
            "\n",
            "      Epoch    GPU_mem   box_loss   cls_loss   dfl_loss  Instances       Size\n"
          ]
        },
        {
          "output_type": "stream",
          "name": "stderr",
          "text": [
            "      27/30       2.4G     0.7351     0.7616      1.123          6        640: 100%|██████████| 19/19 [00:05<00:00,  3.60it/s]\n",
            "                 Class     Images  Instances      Box(P          R      mAP50  mAP50-95): 100%|██████████| 4/4 [00:01<00:00,  3.07it/s]\n"
          ]
        },
        {
          "output_type": "stream",
          "name": "stdout",
          "text": [
            "                   all        110        226      0.964      0.961      0.981      0.798\n",
            "\n",
            "      Epoch    GPU_mem   box_loss   cls_loss   dfl_loss  Instances       Size\n"
          ]
        },
        {
          "output_type": "stream",
          "name": "stderr",
          "text": [
            "      28/30       2.4G     0.7185     0.7463      1.127         10        640: 100%|██████████| 19/19 [00:06<00:00,  3.07it/s]\n",
            "                 Class     Images  Instances      Box(P          R      mAP50  mAP50-95): 100%|██████████| 4/4 [00:01<00:00,  2.67it/s]"
          ]
        },
        {
          "output_type": "stream",
          "name": "stdout",
          "text": [
            "                   all        110        226      0.962      0.956       0.98      0.797\n"
          ]
        },
        {
          "output_type": "stream",
          "name": "stderr",
          "text": [
            "\n"
          ]
        },
        {
          "output_type": "stream",
          "name": "stdout",
          "text": [
            "\n",
            "      Epoch    GPU_mem   box_loss   cls_loss   dfl_loss  Instances       Size\n"
          ]
        },
        {
          "output_type": "stream",
          "name": "stderr",
          "text": [
            "      29/30       2.4G     0.7233     0.7541      1.157          2        640: 100%|██████████| 19/19 [00:05<00:00,  3.72it/s]\n",
            "                 Class     Images  Instances      Box(P          R      mAP50  mAP50-95): 100%|██████████| 4/4 [00:01<00:00,  2.47it/s]"
          ]
        },
        {
          "output_type": "stream",
          "name": "stdout",
          "text": [
            "                   all        110        226      0.968       0.96      0.981      0.805\n"
          ]
        },
        {
          "output_type": "stream",
          "name": "stderr",
          "text": [
            "\n"
          ]
        },
        {
          "output_type": "stream",
          "name": "stdout",
          "text": [
            "\n",
            "      Epoch    GPU_mem   box_loss   cls_loss   dfl_loss  Instances       Size\n"
          ]
        },
        {
          "output_type": "stream",
          "name": "stderr",
          "text": [
            "      30/30       2.4G     0.6874     0.7686      1.087         10        640: 100%|██████████| 19/19 [00:05<00:00,  3.25it/s]\n",
            "                 Class     Images  Instances      Box(P          R      mAP50  mAP50-95): 100%|██████████| 4/4 [00:01<00:00,  2.36it/s]"
          ]
        },
        {
          "output_type": "stream",
          "name": "stdout",
          "text": [
            "                   all        110        226      0.972      0.964      0.983      0.812\n"
          ]
        },
        {
          "output_type": "stream",
          "name": "stderr",
          "text": [
            "\n"
          ]
        },
        {
          "output_type": "stream",
          "name": "stdout",
          "text": [
            "\n",
            "30 epochs completed in 0.072 hours.\n",
            "Optimizer stripped from runs/detect/fruit_detection_yolov8n3/weights/last.pt, 6.2MB\n",
            "Optimizer stripped from runs/detect/fruit_detection_yolov8n3/weights/best.pt, 6.2MB\n",
            "\n",
            "Validating runs/detect/fruit_detection_yolov8n3/weights/best.pt...\n",
            "Ultralytics 8.3.160 🚀 Python-3.11.13 torch-2.6.0+cu124 CUDA:0 (Tesla T4, 15095MiB)\n",
            "Model summary (fused): 72 layers, 3,006,233 parameters, 0 gradients, 8.1 GFLOPs\n"
          ]
        },
        {
          "output_type": "stream",
          "name": "stderr",
          "text": [
            "                 Class     Images  Instances      Box(P          R      mAP50  mAP50-95): 100%|██████████| 4/4 [00:02<00:00,  1.81it/s]\n"
          ]
        },
        {
          "output_type": "stream",
          "name": "stdout",
          "text": [
            "                   all        110        226      0.972      0.964      0.983      0.812\n",
            "                 apple         45         78      0.961      0.987      0.992       0.85\n",
            "                banana         40         70      0.955      0.909      0.961       0.75\n",
            "                orange         41         78          1      0.995      0.995      0.837\n",
            "Speed: 0.3ms preprocess, 3.1ms inference, 0.0ms loss, 3.4ms postprocess per image\n",
            "Results saved to \u001b[1mruns/detect/fruit_detection_yolov8n3\u001b[0m\n",
            "\n",
            "Training complete! Results saved in runs/detect/fruit_detection_yolov8n\n"
          ]
        }
      ]
    },
    {
      "cell_type": "markdown",
      "source": [
        "# **Model Evaluation**"
      ],
      "metadata": {
        "id": "zLp9EaBUtIDT"
      }
    },
    {
      "cell_type": "code",
      "source": [
        "from ultralytics import YOLO\n",
        "import cv2\n",
        "import matplotlib.pyplot as plt\n",
        "import os\n",
        "import numpy as np # เพิ่ม import numpy สำหรับ cv2.cvtColor หากยังไม่มี\n",
        "\n",
        "# โหลดโมเดลที่ train มาแล้ว\n",
        "# !!! โปรดตรวจสอบ Path ให้ถูกต้องกับชื่อ run ของคุณ (เช่น fruit_detection_yolov8n2) !!!\n",
        "trained_model_path = \"/content/runs/detect/fruit_detection_yolov8n2/weights/best.pt\"\n",
        "\n",
        "# เลือกภาพตัวอย่างสำหรับ Test\n",
        "# คุณสามารถเปลี่ยนเป็นภาพอื่นๆ ในโฟลเดอร์ /content/fruit_dataset/test_zip/test/ ได้\n",
        "test_image_file = \"/content/fruit_dataset/test_zip/test/apple_77.jpg\"\n",
        "\n",
        "if not os.path.exists(trained_model_path):\n",
        "    print(f\"Error: Trained model not found at {trained_model_path}. Please check the path and the run name.\")\n",
        "elif not os.path.exists(test_image_file):\n",
        "    print(f\"Error: Test image not found at {test_image_file}. Please check the path.\")\n",
        "else:\n",
        "    model = YOLO(trained_model_path)\n",
        "    print(f\"Successfully loaded trained model from {trained_model_path}\")\n",
        "\n",
        "    # ทำการตรวจจับวัตถุบนภาพ\n",
        "    # save=True จะบอกให้ YOLOv8 บันทึกภาพที่มี bounding box ลงในโฟลเดอร์ results\n",
        "    # show_labels=True, show_conf=True จะทำให้ label และ confidence score แสดงบนภาพ\n",
        "    results = model.predict(source=test_image_file, conf=0.5, iou=0.7, save=True, show_labels=True, show_conf=True)\n",
        "\n",
        "    # --- ส่วนการแสดงผลภาพ ---\n",
        "    # YOLOv8 จะบันทึกภาพผลลัพธ์ไว้ในโฟลเดอร์ย่อยของ runs/detect/predictX (เช่น predict, predict2)\n",
        "    # results[0].save_dir คือ path ของโฟลเดอร์ที่บันทึกผลลัพธ์ของ inference ครั้งล่าสุด\n",
        "    predicted_image_path = os.path.join(results[0].save_dir, os.path.basename(test_image_file))\n",
        "\n",
        "    if os.path.exists(predicted_image_path):\n",
        "        img_result = cv2.imread(predicted_image_path) # อ่านภาพด้วย OpenCV\n",
        "        if img_result is not None:\n",
        "            plt.figure(figsize=(12, 10)) # กำหนดขนาดของกราฟที่จะแสดงภาพ\n",
        "            # OpenCV อ่านภาพเป็น BGR (Blue, Green, Red) แต่ Matplotlib แสดงเป็น RGB\n",
        "            # เราจึงต้องแปลงจาก BGR เป็น RGB ก่อนแสดงผล\n",
        "            plt.imshow(cv2.cvtColor(img_result, cv2.COLOR_BGR2RGB))\n",
        "            plt.title(f\"Object Detection Result for: {os.path.basename(test_image_file)}\")\n",
        "            plt.axis('off') # ปิดแกน x และ y\n",
        "            plt.show() # แสดงภาพ\n",
        "            print(f\"Detection result saved to: {predicted_image_path}\")\n",
        "        else:\n",
        "            print(f\"Error: Could not read predicted image from {predicted_image_path}\")\n",
        "    else:\n",
        "        print(f\"Error: Predicted image not found at {predicted_image_path}. Please ensure save=True was used and check the path.\")\n",
        "\n",
        "    # --- ส่วนแสดงรายละเอียดของ detections (Text Output) ---\n",
        "    print(\"\\n--- Details of Detections ---\")\n",
        "    for r in results: # 'results' object จะมีข้อมูลของแต่ละภาพที่ถูก predict\n",
        "        print(f\"\\nImage: {os.path.basename(r.path)}\")\n",
        "        print(f\"Detected {len(r.boxes)} objects:\")\n",
        "        for box in r.boxes: # วนลูปผ่านแต่ละ bounding box ที่ตรวจจับได้\n",
        "            cls = int(box.cls[0]) # Class ID (เช่น 0 สำหรับ apple, 1 สำหรับ banana)\n",
        "            conf = round(float(box.conf[0]), 2) # Confidence score (ความมั่นใจ)\n",
        "            xyxy = box.xyxy[0].tolist() # Bounding box coordinates in [xmin, ymin, xmax, ymax] format\n",
        "            print(f\"- Class: {model.names[cls]} (ID: {cls}), Confidence: {conf}, BBox: {xyxy}\")"
      ],
      "metadata": {
        "colab": {
          "base_uri": "https://localhost:8080/",
          "height": 1000
        },
        "id": "MHZ1es5Fei31",
        "outputId": "777e7ba3-22e6-486b-d3d4-42e55bad033b"
      },
      "execution_count": 72,
      "outputs": [
        {
          "output_type": "stream",
          "name": "stdout",
          "text": [
            "Successfully loaded trained model from /content/runs/detect/fruit_detection_yolov8n2/weights/best.pt\n",
            "\n",
            "image 1/1 /content/fruit_dataset/test_zip/test/apple_77.jpg: 512x640 4 apples, 7.5ms\n",
            "Speed: 2.8ms preprocess, 7.5ms inference, 1.6ms postprocess per image at shape (1, 3, 512, 640)\n",
            "Results saved to \u001b[1mruns/detect/predict2\u001b[0m\n"
          ]
        },
        {
          "output_type": "display_data",
          "data": {
            "text/plain": [
              "<Figure size 1200x1000 with 1 Axes>"
            ],
            "image/png": "[encoded data removed]"
          },
          "metadata": {}
        },
        {
          "output_type": "stream",
          "name": "stdout",
          "text": [
            "Detection result saved to: runs/detect/predict2/apple_77.jpg\n",
            "\n",
            "--- Details of Detections ---\n",
            "\n",
            "Image: apple_77.jpg\n",
            "Detected 4 objects:\n",
            "- Class: apple (ID: 0), Confidence: 0.96, BBox: [72.15634155273438, 59.458892822265625, 175.3673858642578, 163.9849090576172]\n",
            "- Class: apple (ID: 0), Confidence: 0.93, BBox: [11.096590995788574, 20.274717330932617, 101.0884017944336, 113.59276580810547]\n",
            "- Class: apple (ID: 0), Confidence: 0.91, BBox: [105.92573547363281, 127.94098663330078, 216.92503356933594, 224.82025146484375]\n",
            "- Class: apple (ID: 0), Confidence: 0.88, BBox: [210.25328063964844, 147.39483642578125, 299.41754150390625, 227.2314910888672]\n"
          ]
        }
      ]
    },
    {
      "cell_type": "code",
      "source": [
        "from ultralytics import YOLO\n",
        "import os\n",
        "import matplotlib.pyplot as plt\n",
        "import numpy as np\n",
        "\n",
        "# โหลดโมเดลที่ train มาแล้ว\n",
        "# !!! โปรดตรวจสอบ Path ให้ถูกต้องกับชื่อ run ของคุณ !!!\n",
        "# จากผลลัพธ์การ train ล่าสุดของคุณคือ 'fruit_detection_yolov8n2'\n",
        "trained_model_path = \"/content/runs/detect/fruit_detection_yolov8n2/weights/best.pt\"\n",
        "\n",
        "# ตรวจสอบว่าโมเดลมีอยู่จริง\n",
        "if not os.path.exists(trained_model_path):\n",
        "    print(f\"Error: Trained model not found at {trained_model_path}. Please check the path and the run name.\")\n",
        "else:\n",
        "    model = YOLO(trained_model_path)\n",
        "    print(f\"Successfully loaded trained model from {trained_model_path}\")\n",
        "\n",
        "    # กำหนด Path ไปยังไฟล์ YAML ของ dataset\n",
        "    yaml_data_path = \"/content/yolo_dataset/data.yaml\"\n",
        "\n",
        "    # ทำการ Evaluation โมเดล\n",
        "    metrics = model.val(\n",
        "        data=yaml_data_path,\n",
        "        imgsz=640, # ควรใช้ขนาดภาพเดียวกับที่ใช้ Train\n",
        "        batch=16,  # ควรใช้ batch size เดียวกับที่ใช้ Train\n",
        "        conf=0.25, # Confidence threshold\n",
        "        iou=0.7,   # IoU threshold for NMS\n",
        "        save_json=True, # บันทึกผลลัพธ์เป็น COCO JSON\n",
        "        name='fruit_detection_evaluation', # ชื่อโฟลเดอร์สำหรับผลลัพธ์ evaluation\n",
        "        device=0 # ใช้ GPU\n",
        "    )\n",
        "\n",
        "    # แสดงผลลัพธ์ Metric หลักๆ\n",
        "    print(\"\\n--- Overall Evaluation Results ---\")\n",
        "    print(f\"mAP50: {metrics.box.map50:.4f}\")       # mAP@0.5 IoU\n",
        "    print(f\"mAP50-95: {metrics.box.map:.4f}\")      # mAP@0.5-0.95 IoU\n",
        "    print(f\"Mean Precision: {metrics.box.mp:.4f}\") # Mean Precision across all classes\n",
        "    print(f\"Mean Recall: {metrics.box.mr:.4f}\")    # Mean Recall across all classes\n",
        "\n",
        "    # แสดงรายละเอียด Metric ของแต่ละคลาส\n",
        "    print(\"\\n--- Per-Class Metrics ---\")\n",
        "    class_names_dict = model.names # ดึงชื่อคลาสจากโมเดลในรูปแบบ dict (id: name)\n",
        "\n",
        "    # ดึงค่า p, r, ap50, ap ของแต่ละคลาส\n",
        "    # *** แก้ไขตรงนี้: ลบวงเล็บ () ออก เนื่องจากเป็น numpy array ไม่ใช่เมธอด ***\n",
        "    precisions_per_class = metrics.box.p\n",
        "    recalls_per_class = metrics.box.r\n",
        "    ap50_per_class = metrics.box.ap50 # เข้าถึงโดยตรง\n",
        "    ap_per_class = metrics.box.ap     # เข้าถึงโดยตรง\n",
        "\n",
        "    # เตรียมข้อมูลสำหรับกราฟ\n",
        "    class_labels = []\n",
        "    class_precision_values = []\n",
        "    class_recall_values = []\n",
        "    class_map50_values = []\n",
        "\n",
        "    for i in sorted(class_names_dict.keys()): # วนลูปตาม Class ID ที่เรียงลำดับ\n",
        "        name = class_names_dict[i]\n",
        "\n",
        "        # ตรวจสอบว่า index ไม่เกินขอบเขตของ array\n",
        "        precision = precisions_per_class[i] if i < len(precisions_per_class) else np.nan\n",
        "        recall = recalls_per_class[i] if i < len(recalls_per_class) else np.nan\n",
        "        map50 = ap50_per_class[i] if i < len(ap50_per_class) else np.nan\n",
        "        map = ap_per_class[i] if i < len(ap_per_class) else np.nan\n",
        "\n",
        "        print(f\"Class: {name} (ID: {i})\")\n",
        "        print(f\"  Precision: {precision:.4f}\" if not np.isnan(precision) else \"  Precision: N/A\")\n",
        "        print(f\"  Recall: {recall:.4f}\" if not np.isnan(recall) else \"  Recall: N/A\")\n",
        "        print(f\"  mAP50: {map50:.4f}\" if not np.isnan(map50) else \"  mAP50: N/A\")\n",
        "        print(f\"  mAP50-95: {map:.4f}\" if not np.isnan(map) else \"  mAP50-95: N/A\")\n",
        "\n",
        "        class_labels.append(name)\n",
        "        class_precision_values.append(precision)\n",
        "        class_recall_values.append(recall)\n",
        "        class_map50_values.append(map50)\n",
        "\n",
        "    print(f\"\\nEvaluation results are saved in {metrics.save_dir}\")\n",
        "\n",
        "    # --- สร้างกราฟแสดงผลลัพธ์ ---\n",
        "    x = np.arange(len(class_labels)) # the label locations\n",
        "    width = 0.25 # the width of the bars\n",
        "\n",
        "    fig, ax = plt.subplots(figsize=(10, 6))\n",
        "\n",
        "    # ลบค่า NaN ออกก่อน plot เพื่อไม่ให้เกิด error\n",
        "    # ต้องกรองข้อมูลที่ใช้ plot แยกกันสำหรับแต่ละแท่งกราฟ\n",
        "    valid_indices_p = ~np.isnan(class_precision_values)\n",
        "    valid_indices_r = ~np.isnan(class_recall_values)\n",
        "    valid_indices_m = ~np.isnan(class_map50_values)\n",
        "\n",
        "    rects1 = ax.bar(x[valid_indices_p] - width, np.array(class_precision_values)[valid_indices_p], width, label='Precision')\n",
        "    rects2 = ax.bar(x[valid_indices_r] , np.array(class_recall_values)[valid_indices_r], width, label='Recall')\n",
        "    rects3 = ax.bar(x[valid_indices_m] + width, np.array(class_map50_values)[valid_indices_m], width, label='mAP50')\n",
        "\n",
        "    # Add some text for labels, title and custom x-axis tick labels, etc.\n",
        "    ax.set_ylabel('Score')\n",
        "    ax.set_title('Per-Class Metrics')\n",
        "    ax.set_xticks(x)\n",
        "    ax.set_xticklabels(class_labels)\n",
        "    ax.legend()\n",
        "    ax.set_ylim(0, 1.0) # Scores are between 0 and 1\n",
        "\n",
        "    fig.tight_layout()\n",
        "    plt.show()"
      ],
      "metadata": {
        "colab": {
          "base_uri": "https://localhost:8080/",
          "height": 1000
        },
        "id": "UGmm5hRne6Mk",
        "outputId": "707c0bbc-3329-4322-d6cc-aaaf8a37afd2"
      },
      "execution_count": 73,
      "outputs": [
        {
          "output_type": "stream",
          "name": "stdout",
          "text": [
            "Successfully loaded trained model from /content/runs/detect/fruit_detection_yolov8n2/weights/best.pt\n",
            "Ultralytics 8.3.160 🚀 Python-3.11.13 torch-2.6.0+cu124 CUDA:0 (Tesla T4, 15095MiB)\n",
            "Model summary (fused): 72 layers, 3,006,233 parameters, 0 gradients, 8.1 GFLOPs\n",
            "\u001b[34m\u001b[1mval: \u001b[0mFast image access ✅ (ping: 0.0±0.0 ms, read: 1749.7±569.5 MB/s, size: 121.1 KB)\n"
          ]
        },
        {
          "output_type": "stream",
          "name": "stderr",
          "text": [
            "\u001b[34m\u001b[1mval: \u001b[0mScanning /content/yolo_dataset/labels/test.cache... 110 images, 0 backgrounds, 0 corrupt: 100%|██████████| 110/110 [00:00<?, ?it/s]"
          ]
        },
        {
          "output_type": "stream",
          "name": "stdout",
          "text": [
            "\u001b[34m\u001b[1mval: \u001b[0m/content/yolo_dataset/images/test/apple_62.jpg: corrupt JPEG restored and saved\n"
          ]
        },
        {
          "output_type": "stream",
          "name": "stderr",
          "text": [
            "\n",
            "                 Class     Images  Instances      Box(P          R      mAP50  mAP50-95): 100%|██████████| 7/7 [00:04<00:00,  1.67it/s]\n"
          ]
        },
        {
          "output_type": "stream",
          "name": "stdout",
          "text": [
            "                   all        110        226      0.936      0.896      0.946       0.78\n",
            "                 apple         45         78      0.885      0.949      0.974      0.843\n",
            "                banana         40         70      0.936      0.835      0.911      0.686\n",
            "                orange         41         78      0.986      0.903      0.952      0.811\n",
            "Speed: 6.4ms preprocess, 11.9ms inference, 0.0ms loss, 3.0ms postprocess per image\n",
            "Saving runs/detect/fruit_detection_evaluation2/predictions.json...\n",
            "Results saved to \u001b[1mruns/detect/fruit_detection_evaluation2\u001b[0m\n",
            "\n",
            "--- Overall Evaluation Results ---\n",
            "mAP50: 0.9456\n",
            "mAP50-95: 0.7801\n",
            "Mean Precision: 0.9356\n",
            "Mean Recall: 0.8955\n",
            "\n",
            "--- Per-Class Metrics ---\n",
            "Class: apple (ID: 0)\n",
            "  Precision: 0.8849\n",
            "  Recall: 0.9487\n",
            "  mAP50: 0.9741\n",
            "  mAP50-95: 0.8429\n",
            "Class: banana (ID: 1)\n",
            "  Precision: 0.9359\n",
            "  Recall: 0.8345\n",
            "  mAP50: 0.9113\n",
            "  mAP50-95: 0.6863\n",
            "Class: orange (ID: 2)\n",
            "  Precision: 0.9860\n",
            "  Recall: 0.9033\n",
            "  mAP50: 0.9515\n",
            "  mAP50-95: 0.8110\n",
            "\n",
            "Evaluation results are saved in runs/detect/fruit_detection_evaluation2\n"
          ]
        },
        {
          "output_type": "display_data",
          "data": {
            "text/plain": [
              "<Figure size 1000x600 with 1 Axes>"
            ],
            "image/png": "[encoded data removed]"
          },
          "metadata": {}
        }
      ]
    },
    {
      "cell_type": "code",
      "source": [
        "# prompt: confusion matrix\n",
        "\n",
        "import matplotlib.pyplot as plt\n",
        "# Assuming 'metrics' object from model.val() is available\n",
        "# and contains the confusion matrix data.\n",
        "# The confusion matrix is typically stored as a numpy array within the metrics object.\n",
        "# The exact attribute name might vary slightly depending on the YOLOv8 version and configuration,\n",
        "# but it's commonly accessed via metrics.confusion_matrix or similar.\n",
        "\n",
        "# Let's assume the confusion matrix is accessible via metrics.confusion_matrix.matrix\n",
        "# If not, you might need to inspect the 'metrics' object structure.\n",
        "\n",
        "# Example of how to access the confusion matrix (adjust attribute name if needed)\n",
        "try:\n",
        "    confusion_matrix = metrics.confusion_matrix.matrix\n",
        "    class_names_list = list(model.names.values()) # Get class names as a list\n",
        "\n",
        "    print(\"\\n--- Confusion Matrix ---\")\n",
        "    # Plotting the confusion matrix\n",
        "    plt.figure(figsize=(10, 8))\n",
        "    # Use seaborn for a nice heatmap\n",
        "    import seaborn as sns\n",
        "    sns.heatmap(confusion_matrix, annot=True, fmt=\".0f\", cmap=\"Blues\",\n",
        "                xticklabels=class_names_list, yticklabels=class_names_list)\n",
        "    plt.xlabel(\"Predicted Class\")\n",
        "    plt.ylabel(\"True Class\")\n",
        "    plt.title(\"Confusion Matrix\")\n",
        "    plt.show()\n",
        "\n",
        "except AttributeError:\n",
        "    print(\"\\nCould not find confusion matrix in the evaluation results.\")\n",
        "    print(\"Please check the structure of the 'metrics' object after running model.val().\")\n",
        "    print(\"The confusion matrix might be stored under a different attribute name.\")\n",
        "except Exception as e:\n",
        "    print(f\"\\nAn error occurred while trying to plot the confusion matrix: {e}\")\n",
        "\n"
      ],
      "metadata": {
        "colab": {
          "base_uri": "https://localhost:8080/",
          "height": 753
        },
        "id": "9nEgSRU6oGRI",
        "outputId": "7b38fc3e-7fad-4ded-f47b-450591dfae9f"
      },
      "execution_count": 74,
      "outputs": [
        {
          "output_type": "stream",
          "name": "stdout",
          "text": [
            "\n",
            "--- Confusion Matrix ---\n"
          ]
        },
        {
          "output_type": "display_data",
          "data": {
            "text/plain": [
              "<Figure size 1000x800 with 2 Axes>"
            ],
            "image/png": "[encoded data removed]"
          },
          "metadata": {}
        }
      ]
    },
    {
      "cell_type": "code",
      "metadata": {
        "colab": {
          "base_uri": "https://localhost:8080/"
        },
        "id": "5dab2701",
        "outputId": "3b2bf54f-65d3-4fe8-eff9-363672549afb"
      },
      "source": [
        "# Inspect the structure of the metrics object\n",
        "# This will help us find where the per-class metrics and confusion matrix are stored.\n",
        "\n",
        "if 'metrics' in locals() and metrics is not None:\n",
        "    print(\"Metrics object attributes:\")\n",
        "    print(dir(metrics))\n",
        "\n",
        "    if hasattr(metrics, 'box'):\n",
        "        print(\"\\nmetrics.box attributes:\")\n",
        "        print(dir(metrics.box))\n",
        "\n",
        "        # Attempt to print some potentially relevant attributes\n",
        "        print(\"\\nPotential metrics.box attributes:\")\n",
        "        for attr in ['p', 'r', 'ap50', 'ap', 'confusion_matrix']:\n",
        "            if hasattr(metrics.box, attr):\n",
        "                print(f\"metrics.box.{attr}:\")\n",
        "                try:\n",
        "                    # Print type and value (or shape if it's an array)\n",
        "                    value = getattr(metrics.box, attr)\n",
        "                    if isinstance(value, np.ndarray):\n",
        "                        print(f\"  Type: {type(value)}, Shape: {value.shape}\")\n",
        "                        # Print value for small arrays\n",
        "                        if value.size < 20:\n",
        "                             print(f\"  Value: {value}\")\n",
        "                    else:\n",
        "                         print(f\"  Type: {type(value)}, Value: {value}\")\n",
        "                except Exception as e:\n",
        "                    print(f\"  Could not access: {e}\")\n",
        "            else:\n",
        "                print(f\"metrics.box has no attribute '{attr}'\")\n",
        "\n",
        "    if hasattr(metrics, 'confusion_matrix'):\n",
        "         print(\"\\nmetrics.confusion_matrix attributes:\")\n",
        "         print(dir(metrics.confusion_matrix))\n",
        "         if hasattr(metrics.confusion_matrix, 'matrix'):\n",
        "             print(\"\\nmetrics.confusion_matrix.matrix:\")\n",
        "             try:\n",
        "                 value = metrics.confusion_matrix.matrix\n",
        "                 if isinstance(value, np.ndarray):\n",
        "                     print(f\"  Type: {type(value)}, Shape: {value.shape}\")\n",
        "                     # Print value for small matrices\n",
        "                     if value.size < 30: # Adjust threshold as needed\n",
        "                         print(f\"  Value:\\n{value}\")\n",
        "                 else:\n",
        "                      print(f\"  Type: {type(value)}, Value: {value}\")\n",
        "             except Exception as e:\n",
        "                 print(f\"  Could not access: {e}\")\n",
        "         else:\n",
        "             print(\"metrics.confusion_matrix has no attribute 'matrix'\")\n",
        "\n",
        "\n",
        "else:\n",
        "    print(\"Metrics object not found. Please run the model.val() step first.\")"
      ],
      "execution_count": 75,
      "outputs": [
        {
          "output_type": "stream",
          "name": "stdout",
          "text": [
            "Metrics object attributes:\n",
            "['__class__', '__delattr__', '__dict__', '__dir__', '__doc__', '__eq__', '__format__', '__ge__', '__getattr__', '__getattribute__', '__getstate__', '__gt__', '__hash__', '__init__', '__init_subclass__', '__le__', '__lt__', '__module__', '__ne__', '__new__', '__reduce__', '__reduce_ex__', '__repr__', '__setattr__', '__sizeof__', '__str__', '__subclasshook__', '__weakref__', 'ap_class_index', 'box', 'class_result', 'clear_stats', 'confusion_matrix', 'curves', 'curves_results', 'fitness', 'keys', 'maps', 'mean_results', 'names', 'nt_per_class', 'nt_per_image', 'process', 'results_dict', 'save_dir', 'speed', 'stats', 'summary', 'task', 'to_csv', 'to_df', 'to_html', 'to_json', 'to_sql', 'to_xml', 'tojson', 'update_stats']\n",
            "\n",
            "metrics.box attributes:\n",
            "['__class__', '__delattr__', '__dict__', '__dir__', '__doc__', '__eq__', '__format__', '__ge__', '__getattr__', '__getattribute__', '__getstate__', '__gt__', '__hash__', '__init__', '__init_subclass__', '__le__', '__lt__', '__module__', '__ne__', '__new__', '__reduce__', '__reduce_ex__', '__repr__', '__setattr__', '__sizeof__', '__str__', '__subclasshook__', '__weakref__', 'all_ap', 'ap', 'ap50', 'ap_class_index', 'class_result', 'curves', 'curves_results', 'f1', 'f1_curve', 'fitness', 'map', 'map50', 'map75', 'maps', 'mean_results', 'mp', 'mr', 'nc', 'p', 'p_curve', 'prec_values', 'px', 'r', 'r_curve', 'update']\n",
            "\n",
            "Potential metrics.box attributes:\n",
            "metrics.box.p:\n",
            "  Type: <class 'numpy.ndarray'>, Shape: (3,)\n",
            "  Value: [    0.88489     0.93591     0.98601]\n",
            "metrics.box.r:\n",
            "  Type: <class 'numpy.ndarray'>, Shape: (3,)\n",
            "  Value: [    0.94872     0.83454     0.90332]\n",
            "metrics.box.ap50:\n",
            "  Type: <class 'numpy.ndarray'>, Shape: (3,)\n",
            "  Value: [     0.9741     0.91127      0.9515]\n",
            "metrics.box.ap:\n",
            "  Type: <class 'numpy.ndarray'>, Shape: (3,)\n",
            "  Value: [    0.84294     0.68631     0.81099]\n",
            "metrics.box has no attribute 'confusion_matrix'\n",
            "\n",
            "metrics.confusion_matrix attributes:\n",
            "['__class__', '__delattr__', '__dict__', '__dir__', '__doc__', '__eq__', '__format__', '__ge__', '__getattribute__', '__getstate__', '__gt__', '__hash__', '__init__', '__init_subclass__', '__le__', '__lt__', '__module__', '__ne__', '__new__', '__reduce__', '__reduce_ex__', '__repr__', '__setattr__', '__sizeof__', '__str__', '__subclasshook__', '__weakref__', 'matrix', 'names', 'nc', 'plot', 'print', 'process_batch', 'process_cls_preds', 'summary', 'task', 'to_csv', 'to_df', 'to_html', 'to_json', 'to_sql', 'to_xml', 'tojson', 'tp_fp']\n",
            "\n",
            "metrics.confusion_matrix.matrix:\n",
            "  Type: <class 'numpy.ndarray'>, Shape: (4, 4)\n",
            "  Value:\n",
            "[[         76           0           1          23]\n",
            " [          0          66           0          16]\n",
            " [          0           0          71           5]\n",
            " [          2           4           6           0]]\n"
          ]
        }
      ]
    },
    {
      "cell_type": "code",
      "source": [
        "from ultralytics import YOLO\n",
        "import cv2\n",
        "import matplotlib.pyplot as plt\n",
        "import numpy as np\n",
        "from google.colab import files # สำหรับอัปโหลดไฟล์ใน Colab\n",
        "import io # สำหรับอ่านไฟล์ที่อัปโหลด\n",
        "\n",
        "# โหลดโมเดลที่ train มาแล้ว\n",
        "# !!! โปรดตรวจสอบ Path ให้ถูกต้องกับชื่อ run ของคุณ !!!\n",
        "# จากผลลัพธ์การ train ล่าสุดของคุณคือ 'fruit_detection_yolov8n2'\n",
        "trained_model_path = \"/content/runs/detect/fruit_detection_yolov8n2/weights/best.pt\"\n",
        "\n",
        "# ตรวจสอบว่าโมเดลมีอยู่จริง\n",
        "if not os.path.exists(trained_model_path):\n",
        "    print(f\"Error: Trained model not found at {trained_model_path}. Please check the path and the run name.\")\n",
        "else:\n",
        "    model = YOLO(trained_model_path)\n",
        "    print(f\"Successfully loaded trained model from {trained_model_path}\")\n",
        "\n",
        "    print(\"\\n--- Upload your image for object detection ---\")\n",
        "    print(\"Click 'Choose Files' to upload an image.\")\n",
        "\n",
        "    uploaded = files.upload() # นี่คือส่วนที่อนุญาตให้อัปโหลดไฟล์\n",
        "\n",
        "    if len(uploaded) == 0:\n",
        "        print(\"No file uploaded. Please upload an image to proceed.\")\n",
        "    else:\n",
        "        for fn in uploaded.keys():\n",
        "            print(f'User uploaded file \"{fn}\" ({len(uploaded[fn])} bytes)')\n",
        "\n",
        "            # อ่านภาพที่อัปโหลด\n",
        "            img_bytes = uploaded[fn]\n",
        "            img_np = np.frombuffer(img_bytes, np.uint8)\n",
        "            img = cv2.imdecode(img_np, cv2.IMREAD_COLOR) # อ่านภาพเป็น BGR format โดย OpenCV\n",
        "\n",
        "            if img is None:\n",
        "                print(f\"Error: Could not decode image '{fn}'. Please ensure it's a valid image file (e.g., .jpg, .png).\")\n",
        "                continue\n",
        "\n",
        "            print(f\"Processing uploaded image: {fn}\")\n",
        "\n",
        "            # ทำการตรวจจับวัตถุบนภาพที่อัปโหลด\n",
        "            # conf: ค่าความเชื่อมั่นขั้นต่ำ (confidence threshold)\n",
        "            # iou: Intersection Over Union threshold สำหรับ NMS\n",
        "            # save=True: บันทึกภาพที่มี bounding box (ไม่จำเป็นต้อง save ถ้าแค่ต้องการแสดง)\n",
        "            # show_labels=True, show_conf=True: แสดง label และ confidence บนภาพ\n",
        "            results = model.predict(source=img, conf=0.5, iou=0.7, save=False, show_labels=True, show_conf=True)\n",
        "\n",
        "            # แสดงผลลัพธ์\n",
        "            if results and len(results) > 0:\n",
        "                r = results[0] # ผลลัพธ์สำหรับภาพแรกที่ถูกประมวลผล\n",
        "\n",
        "                # แปลงภาพผลลัพธ์จาก BGR (OpenCV) เป็น RGB (Matplotlib) เพื่อแสดงผล\n",
        "                img_detected_rgb = cv2.cvtColor(r.plot(), cv2.COLOR_BGR2RGB)\n",
        "\n",
        "                plt.figure(figsize=(12, 10))\n",
        "                plt.imshow(img_detected_rgb)\n",
        "                plt.title(f\"Object Detection Result for: {fn}\")\n",
        "                plt.axis('off')\n",
        "                plt.show()\n",
        "\n",
        "                # แสดงรายละเอียดการตรวจจับเป็นข้อความ\n",
        "                print(\"\\n--- Details of Detections ---\")\n",
        "                print(f\"Detected {len(r.boxes)} objects:\")\n",
        "                if len(r.boxes) > 0:\n",
        "                    for box in r.boxes:\n",
        "                        cls = int(box.cls[0])\n",
        "                        conf = round(float(box.conf[0]), 2)\n",
        "                        xyxy = box.xyxy[0].tolist() # [xmin, ymin, xmax, ymax]\n",
        "                        print(f\"- Class: {model.names[cls]} (ID: {cls}), Confidence: {conf}, BBox: {xyxy}\")\n",
        "                else:\n",
        "                    print(\"No objects detected in this image.\")\n",
        "            else:\n",
        "                print(\"No detection results found for this image.\")"
      ],
      "metadata": {
        "colab": {
          "base_uri": "https://localhost:8080/",
          "height": 1000
        },
        "id": "IJ1grJkjfbQ4",
        "outputId": "40949120-7a7f-47aa-ac09-839b7e4ae52f"
      },
      "execution_count": 82,
      "outputs": [
        {
          "output_type": "stream",
          "name": "stdout",
          "text": [
            "Successfully loaded trained model from /content/runs/detect/fruit_detection_yolov8n2/weights/best.pt\n",
            "\n",
            "--- Upload your image for object detection ---\n",
            "Click 'Choose Files' to upload an image.\n"
          ]
        },
        {
          "output_type": "display_data",
          "data": {
            "text/plain": [
              "<IPython.core.display.HTML object>"
            ],
            "text/html": [
              "\n",
              "     <input type=\"file\" id=\"files-8800780f-885c-4753-8e13-e68eae5e6efe\" name=\"files[]\" multiple disabled\n",
              "        style=\"border:none\" />\n",
              "     <output id=\"result-8800780f-885c-4753-8e13-e68eae5e6efe\">\n",
              "      Upload widget is only available when the cell has been executed in the\n",
              "      current browser session. Please rerun this cell to enable.\n",
              "      </output>\n",
              "      <script>// Copyright 2017 Google LLC\n",
              "//\n",
              "// Licensed under the Apache License, Version 2.0 (the \"License\");\n",
              "// you may not use this file except in compliance with the License.\n",
              "// You may obtain a copy of the License at\n",
              "//\n",
              "//      http://www.apache.org/licenses/LICENSE-2.0\n",
              "//\n",
              "// Unless required by applicable law or agreed to in writing, software\n",
              "// distributed under the License is distributed on an \"AS IS\" BASIS,\n",
              "// WITHOUT WARRANTIES OR CONDITIONS OF ANY KIND, either express or implied.\n",
              "// See the License for the specific language governing permissions and\n",
              "// limitations under the License.\n",
              "\n",
              "/**\n",
              " * @fileoverview Helpers for google.colab Python module.\n",
              " */\n",
              "(function(scope) {\n",
              "function span(text, styleAttributes = {}) {\n",
              "  const element = document.createElement('span');\n",
              "  element.textContent = text;\n",
              "  for (const key of Object.keys(styleAttributes)) {\n",
              "    element.style[key] = styleAttributes[key];\n",
              "  }\n",
              "  return element;\n",
              "}\n",
              "\n",
              "// Max number of bytes which will be uploaded at a time.\n",
              "const MAX_PAYLOAD_SIZE = 100 * 1024;\n",
              "\n",
              "function _uploadFiles(inputId, outputId) {\n",
              "  const steps = uploadFilesStep(inputId, outputId);\n",
              "  const outputElement = document.getElementById(outputId);\n",
              "  // Cache steps on the outputElement to make it available for the next call\n",
              "  // to uploadFilesContinue from Python.\n",
              "  outputElement.steps = steps;\n",
              "\n",
              "  return _uploadFilesContinue(outputId);\n",
              "}\n",
              "\n",
              "// This is roughly an async generator (not supported in the browser yet),\n",
              "// where there are multiple asynchronous steps and the Python side is going\n",
              "// to poll for completion of each step.\n",
              "// This uses a Promise to block the python side on completion of each step,\n",
              "// then passes the result of the previous step as the input to the next step.\n",
              "function _uploadFilesContinue(outputId) {\n",
              "  const outputElement = document.getElementById(outputId);\n",
              "  const steps = outputElement.steps;\n",
              "\n",
              "  const next = steps.next(outputElement.lastPromiseValue);\n",
              "  return Promise.resolve(next.value.promise).then((value) => {\n",
              "    // Cache the last promise value to make it available to the next\n",
              "    // step of the generator.\n",
              "    outputElement.lastPromiseValue = value;\n",
              "    return next.value.response;\n",
              "  });\n",
              "}\n",
              "\n",
              "/**\n",
              " * Generator function which is called between each async step of the upload\n",
              " * process.\n",
              " * @param {string} inputId Element ID of the input file picker element.\n",
              " * @param {string} outputId Element ID of the output display.\n",
              " * @return {!Iterable<!Object>} Iterable of next steps.\n",
              " */\n",
              "function* uploadFilesStep(inputId, outputId) {\n",
              "  const inputElement = document.getElementById(inputId);\n",
              "  inputElement.disabled = false;\n",
              "\n",
              "  const outputElement = document.getElementById(outputId);\n",
              "  outputElement.innerHTML = '';\n",
              "\n",
              "  const pickedPromise = new Promise((resolve) => {\n",
              "    inputElement.addEventListener('change', (e) => {\n",
              "      resolve(e.target.files);\n",
              "    });\n",
              "  });\n",
              "\n",
              "  const cancel = document.createElement('button');\n",
              "  inputElement.parentElement.appendChild(cancel);\n",
              "  cancel.textContent = 'Cancel upload';\n",
              "  const cancelPromise = new Promise((resolve) => {\n",
              "    cancel.onclick = () => {\n",
              "      resolve(null);\n",
              "    };\n",
              "  });\n",
              "\n",
              "  // Wait for the user to pick the files.\n",
              "  const files = yield {\n",
              "    promise: Promise.race([pickedPromise, cancelPromise]),\n",
              "    response: {\n",
              "      action: 'starting',\n",
              "    }\n",
              "  };\n",
              "\n",
              "  cancel.remove();\n",
              "\n",
              "  // Disable the input element since further picks are not allowed.\n",
              "  inputElement.disabled = true;\n",
              "\n",
              "  if (!files) {\n",
              "    return {\n",
              "      response: {\n",
              "        action: 'complete',\n",
              "      }\n",
              "    };\n",
              "  }\n",
              "\n",
              "  for (const file of files) {\n",
              "    const li = document.createElement('li');\n",
              "    li.append(span(file.name, {fontWeight: 'bold'}));\n",
              "    li.append(span(\n",
              "        `(${file.type || 'n/a'}) - ${file.size} bytes, ` +\n",
              "        `last modified: ${\n",
              "            file.lastModifiedDate ? file.lastModifiedDate.toLocaleDateString() :\n",
              "                                    'n/a'} - `));\n",
              "    const percent = span('0% done');\n",
              "    li.appendChild(percent);\n",
              "\n",
              "    outputElement.appendChild(li);\n",
              "\n",
              "    const fileDataPromise = new Promise((resolve) => {\n",
              "      const reader = new FileReader();\n",
              "      reader.onload = (e) => {\n",
              "        resolve(e.target.result);\n",
              "      };\n",
              "      reader.readAsArrayBuffer(file);\n",
              "    });\n",
              "    // Wait for the data to be ready.\n",
              "    let fileData = yield {\n",
              "      promise: fileDataPromise,\n",
              "      response: {\n",
              "        action: 'continue',\n",
              "      }\n",
              "    };\n",
              "\n",
              "    // Use a chunked sending to avoid message size limits. See b/62115660.\n",
              "    let position = 0;\n",
              "    do {\n",
              "      const length = Math.min(fileData.byteLength - position, MAX_PAYLOAD_SIZE);\n",
              "      const chunk = new Uint8Array(fileData, position, length);\n",
              "      position += length;\n",
              "\n",
              "      const base64 = btoa(String.fromCharCode.apply(null, chunk));\n",
              "      yield {\n",
              "        response: {\n",
              "          action: 'append',\n",
              "          file: file.name,\n",
              "          data: base64,\n",
              "        },\n",
              "      };\n",
              "\n",
              "      let percentDone = fileData.byteLength === 0 ?\n",
              "          100 :\n",
              "          Math.round((position / fileData.byteLength) * 100);\n",
              "      percent.textContent = `${percentDone}% done`;\n",
              "\n",
              "    } while (position < fileData.byteLength);\n",
              "  }\n",
              "\n",
              "  // All done.\n",
              "  yield {\n",
              "    response: {\n",
              "      action: 'complete',\n",
              "    }\n",
              "  };\n",
              "}\n",
              "\n",
              "scope.google = scope.google || {};\n",
              "scope.google.colab = scope.google.colab || {};\n",
              "scope.google.colab._files = {\n",
              "  _uploadFiles,\n",
              "  _uploadFilesContinue,\n",
              "};\n",
              "})(self);\n",
              "</script> "
            ]
          },
          "metadata": {}
        },
        {
          "output_type": "stream",
          "name": "stdout",
          "text": [
            "Saving images.jpg to images.jpg\n",
            "User uploaded file \"images.jpg\" (6863 bytes)\n",
            "Processing uploaded image: images.jpg\n",
            "\n",
            "0: 448x640 4 bananas, 43.6ms\n",
            "Speed: 2.4ms preprocess, 43.6ms inference, 1.6ms postprocess per image at shape (1, 3, 448, 640)\n"
          ]
        },
        {
          "output_type": "display_data",
          "data": {
            "text/plain": [
              "<Figure size 1200x1000 with 1 Axes>"
            ],
            "image/png": "[encoded data removed]"
          },
          "metadata": {}
        },
        {
          "output_type": "stream",
          "name": "stdout",
          "text": [
            "\n",
            "--- Details of Detections ---\n",
            "Detected 4 objects:\n",
            "- Class: banana (ID: 1), Confidence: 0.97, BBox: [49.92939758300781, 39.4633903503418, 229.72036743164062, 164.04933166503906]\n",
            "- Class: banana (ID: 1), Confidence: 0.95, BBox: [13.739221572875977, 33.44118118286133, 149.30258178710938, 181.10238647460938]\n",
            "- Class: banana (ID: 1), Confidence: 0.86, BBox: [75.56242370605469, 24.385774612426758, 262.7140808105469, 94.98771667480469]\n",
            "- Class: banana (ID: 1), Confidence: 0.82, BBox: [72.23531341552734, 38.31910705566406, 263.9957275390625, 129.50039672851562]\n"
          ]
        }
      ]
    }
  ]
}